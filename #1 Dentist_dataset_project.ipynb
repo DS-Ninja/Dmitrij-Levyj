{
  "nbformat": 4,
  "nbformat_minor": 0,
  "metadata": {
    "colab": {
      "provenance": [],
      "mount_file_id": "1CJUm7I0kI7fpKaCpNwtFjtcR4O1BzwAE",
      "authorship_tag": "ABX9TyM4NPiw/AL/eg45RDSlc36G",
      "include_colab_link": true
    },
    "kernelspec": {
      "name": "python3",
      "display_name": "Python 3"
    },
    "language_info": {
      "name": "python"
    }
  },
  "cells": [
    {
      "cell_type": "markdown",
      "metadata": {
        "id": "view-in-github",
        "colab_type": "text"
      },
      "source": [
        "<a href=\"https://colab.research.google.com/github/DS-Ninja/Dmitrij-Levyj/blob/Main/%231_Dentist_dataset_project.ipynb\" target=\"_parent\"><img src=\"https://colab.research.google.com/assets/colab-badge.svg\" alt=\"Open In Colab\"/></a>"
      ]
    },
    {
      "cell_type": "markdown",
      "source": [
        "## File upload and preparation."
      ],
      "metadata": {
        "id": "6M0w9FK39jCY"
      }
    },
    {
      "cell_type": "code",
      "source": [
        "import pandas as pd\n",
        "\n",
        "# Specify the file path\n",
        "file_path = '/content/Dentist dataset.csv'  # Replace 'your_file_name.csv' with the actual file name\n",
        "\n",
        "# Load the CSV file into a DataFrame\n",
        "df = pd.read_csv(file_path)\n",
        "\n",
        "# Display the first few rows of the DataFrame\n",
        "print(df.head())"
      ],
      "metadata": {
        "id": "skrvGvMV_4bw",
        "outputId": "54537d59-cf57-4ad4-850e-6e3879056c66",
        "colab": {
          "base_uri": "https://localhost:8080/"
        }
      },
      "execution_count": 4,
      "outputs": [
        {
          "output_type": "stream",
          "name": "stdout",
          "text": [
            "      Отметка времени                                        Clinic name  \\\n",
            "0  23.02.2017 1:32:45  \"Областная стоматологическая поликлиника\" - Кл...   \n",
            "1  23.02.2017 1:33:02  \"Областная стоматологическая поликлиника\" - Кл...   \n",
            "2  23.02.2017 1:33:19  \"Областная стоматологическая поликлиника\" - Кл...   \n",
            "3  23.02.2017 1:33:40  \"Областная стоматологическая поликлиника\" - Кл...   \n",
            "4  23.02.2017 1:34:14                                 \"Первый\" - Клиника   \n",
            "\n",
            "  Doctor and Clinic name Customers true story  \n",
            "0                    NaN                  NaN  \n",
            "1                    NaN                  NaN  \n",
            "2                    NaN                  NaN  \n",
            "3                    NaN                  NaN  \n",
            "4                    NaN                  NaN  \n"
          ]
        }
      ]
    },
    {
      "cell_type": "code",
      "source": [],
      "metadata": {
        "id": "HFD7z951AQ9y"
      },
      "execution_count": null,
      "outputs": []
    },
    {
      "cell_type": "markdown",
      "source": [
        "## Step 1: Business Understanding\n",
        "\n",
        "The goal of this project is to help individuals in Kaliningrad find reliable dentists by analyzing reviews collected via an online form. By organizing, analyzing, and visualizing the data, we aim to identify patterns, key insights, and recommendations for choosing the best dentists or clinics in the region. This will contribute to creating a valuable resource for locals and showcase your Data Science skills.\n",
        "\n",
        "1. What is the purpose of this project? - Helping residents of Kaliningrad find reliable dentists based on real reviews\n",
        "2. What are the key questions we want to answer? - Which dentists are the most recommended by users based on vote and review\n",
        "3. Who is the target audience for this analysis? - Potential customers\n",
        "\n",
        "\n",
        "### **All** **data** **collection** **was** **done** **by** **me** **some** **time** **ago**."
      ],
      "metadata": {
        "id": "oi_L2AtLAvns"
      }
    },
    {
      "cell_type": "markdown",
      "source": [
        "## Step 2: Data Understanding\n",
        "\n",
        "Loading and inspecting the dataset:\n",
        "\n",
        "1. Checking the structure: columns, rows, and data types.\n",
        "2. Identifying key features such as dentist names, reviews, ratings, etc.\n",
        "\n",
        "Assessing data quality:\n",
        "\n",
        "1. Are there any missing values, duplicates, or irrelevant data?\n",
        "2. Is the text (e.g., reviews) clean and free of inconsistencies?\n",
        "\n",
        "Exploratory Analysis:\n",
        "\n",
        "1. Basic statistics for numerical columns (e.g., average rating).\n",
        "2. Distribution of reviews (how many reviews per dentist?)."
      ],
      "metadata": {
        "id": "ZjHYSNu-Bg57"
      }
    },
    {
      "cell_type": "code",
      "source": [
        "# Show the first few rows to get an overview\n",
        "print(df.head())\n",
        "\n",
        "# Display the shape (rows and columns)\n",
        "print(\"Shape of the dataset:\", df.shape)\n",
        "\n",
        "# Display the column names and their data types\n",
        "print(\"Data Types:\\n\", df.dtypes)"
      ],
      "metadata": {
        "colab": {
          "base_uri": "https://localhost:8080/"
        },
        "id": "dwbridaiH_of",
        "outputId": "54506ca8-44e1-4cbf-acc8-b9c7f53417c2"
      },
      "execution_count": 10,
      "outputs": [
        {
          "output_type": "stream",
          "name": "stdout",
          "text": [
            "      Отметка времени                                        Clinic name  \\\n",
            "0  23.02.2017 1:32:45  \"Областная стоматологическая поликлиника\" - Кл...   \n",
            "1  23.02.2017 1:33:02  \"Областная стоматологическая поликлиника\" - Кл...   \n",
            "2  23.02.2017 1:33:19  \"Областная стоматологическая поликлиника\" - Кл...   \n",
            "3  23.02.2017 1:33:40  \"Областная стоматологическая поликлиника\" - Кл...   \n",
            "4  23.02.2017 1:34:14                                 \"Первый\" - Клиника   \n",
            "\n",
            "  Doctor and Clinic name Customers true story  \n",
            "0                    NaN                  NaN  \n",
            "1                    NaN                  NaN  \n",
            "2                    NaN                  NaN  \n",
            "3                    NaN                  NaN  \n",
            "4                    NaN                  NaN  \n",
            "Shape of the dataset: (187, 4)\n",
            "Data Types:\n",
            " Отметка времени           object\n",
            "Clinic name               object\n",
            "Doctor and Clinic name    object\n",
            "Customers true story      object\n",
            "dtype: object\n"
          ]
        }
      ]
    },
    {
      "cell_type": "code",
      "source": [
        "# Check for missing values\n",
        "print(\"Missing Values:\\n\", df.isnull().sum())\n",
        "\n",
        "# Get more details about the dataset\n",
        "print(\"General Info:\")\n",
        "df.info()\n"
      ],
      "metadata": {
        "colab": {
          "base_uri": "https://localhost:8080/"
        },
        "id": "Dsc252MuJswq",
        "outputId": "c65555df-584c-4bf2-f0cf-3053ae18253b"
      },
      "execution_count": 11,
      "outputs": [
        {
          "output_type": "stream",
          "name": "stdout",
          "text": [
            "Missing Values:\n",
            " Отметка времени             0\n",
            "Clinic name                38\n",
            "Doctor and Clinic name     62\n",
            "Customers true story      179\n",
            "dtype: int64\n",
            "General Info:\n",
            "<class 'pandas.core.frame.DataFrame'>\n",
            "RangeIndex: 187 entries, 0 to 186\n",
            "Data columns (total 4 columns):\n",
            " #   Column                  Non-Null Count  Dtype \n",
            "---  ------                  --------------  ----- \n",
            " 0   Отметка времени         187 non-null    object\n",
            " 1   Clinic name             149 non-null    object\n",
            " 2   Doctor and Clinic name  125 non-null    object\n",
            " 3   Customers true story    8 non-null      object\n",
            "dtypes: object(4)\n",
            "memory usage: 6.0+ KB\n"
          ]
        }
      ]
    },
    {
      "cell_type": "markdown",
      "source": [
        "## Step 3: Translation from cirillica to English (for GitHub portfolio)"
      ],
      "metadata": {
        "id": "kStMu4nDKE8M"
      }
    },
    {
      "cell_type": "code",
      "source": [
        "!pip install googletrans==4.0.0-rc1"
      ],
      "metadata": {
        "colab": {
          "base_uri": "https://localhost:8080/"
        },
        "collapsed": true,
        "id": "rtpDJzPMKmPN",
        "outputId": "ca2d6fed-fb78-45bb-feec-2e0f9b728677"
      },
      "execution_count": 13,
      "outputs": [
        {
          "output_type": "stream",
          "name": "stdout",
          "text": [
            "Collecting googletrans==4.0.0-rc1\n",
            "  Downloading googletrans-4.0.0rc1.tar.gz (20 kB)\n",
            "  Preparing metadata (setup.py) ... \u001b[?25l\u001b[?25hdone\n",
            "Collecting httpx==0.13.3 (from googletrans==4.0.0-rc1)\n",
            "  Downloading httpx-0.13.3-py3-none-any.whl.metadata (25 kB)\n",
            "Requirement already satisfied: certifi in /usr/local/lib/python3.10/dist-packages (from httpx==0.13.3->googletrans==4.0.0-rc1) (2024.8.30)\n",
            "Collecting hstspreload (from httpx==0.13.3->googletrans==4.0.0-rc1)\n",
            "  Downloading hstspreload-2024.12.1-py3-none-any.whl.metadata (2.1 kB)\n",
            "Requirement already satisfied: sniffio in /usr/local/lib/python3.10/dist-packages (from httpx==0.13.3->googletrans==4.0.0-rc1) (1.3.1)\n",
            "Collecting chardet==3.* (from httpx==0.13.3->googletrans==4.0.0-rc1)\n",
            "  Downloading chardet-3.0.4-py2.py3-none-any.whl.metadata (3.2 kB)\n",
            "Collecting idna==2.* (from httpx==0.13.3->googletrans==4.0.0-rc1)\n",
            "  Downloading idna-2.10-py2.py3-none-any.whl.metadata (9.1 kB)\n",
            "Collecting rfc3986<2,>=1.3 (from httpx==0.13.3->googletrans==4.0.0-rc1)\n",
            "  Downloading rfc3986-1.5.0-py2.py3-none-any.whl.metadata (6.5 kB)\n",
            "Collecting httpcore==0.9.* (from httpx==0.13.3->googletrans==4.0.0-rc1)\n",
            "  Downloading httpcore-0.9.1-py3-none-any.whl.metadata (4.6 kB)\n",
            "Collecting h11<0.10,>=0.8 (from httpcore==0.9.*->httpx==0.13.3->googletrans==4.0.0-rc1)\n",
            "  Downloading h11-0.9.0-py2.py3-none-any.whl.metadata (8.1 kB)\n",
            "Collecting h2==3.* (from httpcore==0.9.*->httpx==0.13.3->googletrans==4.0.0-rc1)\n",
            "  Downloading h2-3.2.0-py2.py3-none-any.whl.metadata (32 kB)\n",
            "Collecting hyperframe<6,>=5.2.0 (from h2==3.*->httpcore==0.9.*->httpx==0.13.3->googletrans==4.0.0-rc1)\n",
            "  Downloading hyperframe-5.2.0-py2.py3-none-any.whl.metadata (7.2 kB)\n",
            "Collecting hpack<4,>=3.0 (from h2==3.*->httpcore==0.9.*->httpx==0.13.3->googletrans==4.0.0-rc1)\n",
            "  Downloading hpack-3.0.0-py2.py3-none-any.whl.metadata (7.0 kB)\n",
            "Downloading httpx-0.13.3-py3-none-any.whl (55 kB)\n",
            "\u001b[2K   \u001b[90m━━━━━━━━━━━━━━━━━━━━━━━━━━━━━━━━━━━━━━━━\u001b[0m \u001b[32m55.1/55.1 kB\u001b[0m \u001b[31m3.7 MB/s\u001b[0m eta \u001b[36m0:00:00\u001b[0m\n",
            "\u001b[?25hDownloading chardet-3.0.4-py2.py3-none-any.whl (133 kB)\n",
            "\u001b[2K   \u001b[90m━━━━━━━━━━━━━━━━━━━━━━━━━━━━━━━━━━━━━━━━\u001b[0m \u001b[32m133.4/133.4 kB\u001b[0m \u001b[31m5.7 MB/s\u001b[0m eta \u001b[36m0:00:00\u001b[0m\n",
            "\u001b[?25hDownloading httpcore-0.9.1-py3-none-any.whl (42 kB)\n",
            "\u001b[2K   \u001b[90m━━━━━━━━━━━━━━━━━━━━━━━━━━━━━━━━━━━━━━━━\u001b[0m \u001b[32m42.6/42.6 kB\u001b[0m \u001b[31m2.9 MB/s\u001b[0m eta \u001b[36m0:00:00\u001b[0m\n",
            "\u001b[?25hDownloading idna-2.10-py2.py3-none-any.whl (58 kB)\n",
            "\u001b[2K   \u001b[90m━━━━━━━━━━━━━━━━━━━━━━━━━━━━━━━━━━━━━━━━\u001b[0m \u001b[32m58.8/58.8 kB\u001b[0m \u001b[31m4.4 MB/s\u001b[0m eta \u001b[36m0:00:00\u001b[0m\n",
            "\u001b[?25hDownloading h2-3.2.0-py2.py3-none-any.whl (65 kB)\n",
            "\u001b[2K   \u001b[90m━━━━━━━━━━━━━━━━━━━━━━━━━━━━━━━━━━━━━━━━\u001b[0m \u001b[32m65.0/65.0 kB\u001b[0m \u001b[31m4.4 MB/s\u001b[0m eta \u001b[36m0:00:00\u001b[0m\n",
            "\u001b[?25hDownloading rfc3986-1.5.0-py2.py3-none-any.whl (31 kB)\n",
            "Downloading hstspreload-2024.12.1-py3-none-any.whl (1.3 MB)\n",
            "\u001b[2K   \u001b[90m━━━━━━━━━━━━━━━━━━━━━━━━━━━━━━━━━━━━━━━━\u001b[0m \u001b[32m1.3/1.3 MB\u001b[0m \u001b[31m31.9 MB/s\u001b[0m eta \u001b[36m0:00:00\u001b[0m\n",
            "\u001b[?25hDownloading h11-0.9.0-py2.py3-none-any.whl (53 kB)\n",
            "\u001b[2K   \u001b[90m━━━━━━━━━━━━━━━━━━━━━━━━━━━━━━━━━━━━━━━━\u001b[0m \u001b[32m53.6/53.6 kB\u001b[0m \u001b[31m3.9 MB/s\u001b[0m eta \u001b[36m0:00:00\u001b[0m\n",
            "\u001b[?25hDownloading hpack-3.0.0-py2.py3-none-any.whl (38 kB)\n",
            "Downloading hyperframe-5.2.0-py2.py3-none-any.whl (12 kB)\n",
            "Building wheels for collected packages: googletrans\n",
            "  Building wheel for googletrans (setup.py) ... \u001b[?25l\u001b[?25hdone\n",
            "  Created wheel for googletrans: filename=googletrans-4.0.0rc1-py3-none-any.whl size=17397 sha256=05415550ea1fe300551045cec29d02b5a4bd27c67d4f88efc4ff53001b1aba58\n",
            "  Stored in directory: /root/.cache/pip/wheels/c0/59/9f/7372f0cf70160fe61b528532e1a7c8498c4becd6bcffb022de\n",
            "Successfully built googletrans\n",
            "Installing collected packages: rfc3986, hyperframe, hpack, h11, chardet, idna, hstspreload, h2, httpcore, httpx, googletrans\n",
            "  Attempting uninstall: h11\n",
            "    Found existing installation: h11 0.14.0\n",
            "    Uninstalling h11-0.14.0:\n",
            "      Successfully uninstalled h11-0.14.0\n",
            "  Attempting uninstall: chardet\n",
            "    Found existing installation: chardet 5.2.0\n",
            "    Uninstalling chardet-5.2.0:\n",
            "      Successfully uninstalled chardet-5.2.0\n",
            "  Attempting uninstall: idna\n",
            "    Found existing installation: idna 3.10\n",
            "    Uninstalling idna-3.10:\n",
            "      Successfully uninstalled idna-3.10\n",
            "  Attempting uninstall: httpcore\n",
            "    Found existing installation: httpcore 1.0.7\n",
            "    Uninstalling httpcore-1.0.7:\n",
            "      Successfully uninstalled httpcore-1.0.7\n",
            "  Attempting uninstall: httpx\n",
            "    Found existing installation: httpx 0.28.1\n",
            "    Uninstalling httpx-0.28.1:\n",
            "      Successfully uninstalled httpx-0.28.1\n",
            "\u001b[31mERROR: pip's dependency resolver does not currently take into account all the packages that are installed. This behaviour is the source of the following dependency conflicts.\n",
            "langsmith 0.2.2 requires httpx<1,>=0.23.0, but you have httpx 0.13.3 which is incompatible.\n",
            "openai 1.54.5 requires httpx<1,>=0.23.0, but you have httpx 0.13.3 which is incompatible.\u001b[0m\u001b[31m\n",
            "\u001b[0mSuccessfully installed chardet-3.0.4 googletrans-4.0.0rc1 h11-0.9.0 h2-3.2.0 hpack-3.0.0 hstspreload-2024.12.1 httpcore-0.9.1 httpx-0.13.3 hyperframe-5.2.0 idna-2.10 rfc3986-1.5.0\n"
          ]
        }
      ]
    },
    {
      "cell_type": "code",
      "source": [
        "from googletrans import Translator\n",
        "\n",
        "# Initialize translator\n",
        "translator = Translator()\n",
        "\n",
        "# Translate each column\n",
        "df['Clinic_name_Translated'] = df['Clinic name'].apply(lambda x: translator.translate(x, src='ru', dest='en').text if pd.notnull(x) else x)\n",
        "df['Doctor_and_Clinic_name_Translated'] = df['Doctor and Clinic name'].apply(lambda x: translator.translate(x, src='ru', dest='en').text if pd.notnull(x) else x)\n",
        "df['Customer_true_story_Translated'] = df['Customers true story'].apply(lambda x: translator.translate(x, src='ru', dest='en').text if pd.notnull(x) else x)\n",
        "\n",
        "# Display translated columns\n",
        "print(df[['Clinic_name_Translated', 'Doctor_and_Clinic_name_Translated', 'Customer_true_story_Translated']].head())\n"
      ],
      "metadata": {
        "colab": {
          "base_uri": "https://localhost:8080/"
        },
        "id": "Rk7Endx7Kul6",
        "outputId": "03410d07-9a1a-4287-bb0b-8545f5a8f969"
      },
      "execution_count": 20,
      "outputs": [
        {
          "output_type": "stream",
          "name": "stdout",
          "text": [
            "              Clinic_name_Translated Doctor_and_Clinic_name_Translated  \\\n",
            "0  \"Regional dental clinic\" - clinic                               NaN   \n",
            "1  \"Regional dental clinic\" - clinic                               NaN   \n",
            "2  \"Regional dental clinic\" - clinic                               NaN   \n",
            "3  \"Regional dental clinic\" - clinic                               NaN   \n",
            "4                \"First\" is a clinic                               NaN   \n",
            "\n",
            "  Customer_true_story_Translated  \n",
            "0                            NaN  \n",
            "1                            NaN  \n",
            "2                            NaN  \n",
            "3                            NaN  \n",
            "4                            NaN  \n"
          ]
        }
      ]
    },
    {
      "cell_type": "code",
      "source": [
        "df.to_csv('translated_dataset.csv', index=False)\n",
        "print(\"Translated dataset saved successfully!\")"
      ],
      "metadata": {
        "colab": {
          "base_uri": "https://localhost:8080/"
        },
        "id": "4fXzpeArRh0Z",
        "outputId": "24c443ce-e0bd-491c-e12a-629eeba10d00"
      },
      "execution_count": 21,
      "outputs": [
        {
          "output_type": "stream",
          "name": "stdout",
          "text": [
            "Translated dataset saved successfully!\n"
          ]
        }
      ]
    },
    {
      "cell_type": "code",
      "source": [
        "# Extract only the date part (before the space)\n",
        "df['Date'] = df['Отметка времени'].apply(lambda x: x.split()[0])\n",
        "\n",
        "# Rename the original column to English\n",
        "df = df.rename(columns={'Отметка времени': 'Timestamp'})\n",
        "\n",
        "# Check the results\n",
        "print(df[['Timestamp', 'Date']].head())"
      ],
      "metadata": {
        "colab": {
          "base_uri": "https://localhost:8080/"
        },
        "id": "VR9rd92fUO2a",
        "outputId": "3d39f86f-adcd-460e-dd3f-aabdff3c8ab0"
      },
      "execution_count": 27,
      "outputs": [
        {
          "output_type": "stream",
          "name": "stdout",
          "text": [
            "            Timestamp        Date\n",
            "0  23.02.2017 1:32:45  23.02.2017\n",
            "1  23.02.2017 1:33:02  23.02.2017\n",
            "2  23.02.2017 1:33:19  23.02.2017\n",
            "3  23.02.2017 1:33:40  23.02.2017\n",
            "4  23.02.2017 1:34:14  23.02.2017\n"
          ]
        }
      ]
    },
    {
      "cell_type": "code",
      "source": [
        "df"
      ],
      "metadata": {
        "colab": {
          "base_uri": "https://localhost:8080/",
          "height": 597
        },
        "id": "daeAgPJISCot",
        "outputId": "d981b737-6757-40e2-f500-a5e3edfb40c3"
      },
      "execution_count": 28,
      "outputs": [
        {
          "output_type": "execute_result",
          "data": {
            "text/plain": [
              "               Timestamp                                        Clinic name  \\\n",
              "0     23.02.2017 1:32:45  \"Областная стоматологическая поликлиника\" - Кл...   \n",
              "1     23.02.2017 1:33:02  \"Областная стоматологическая поликлиника\" - Кл...   \n",
              "2     23.02.2017 1:33:19  \"Областная стоматологическая поликлиника\" - Кл...   \n",
              "3     23.02.2017 1:33:40  \"Областная стоматологическая поликлиника\" - Кл...   \n",
              "4     23.02.2017 1:34:14                                 \"Первый\" - Клиника   \n",
              "..                   ...                                                ...   \n",
              "182  26.05.2017 11:59:17                             \"Центродент\" - Клиника   \n",
              "183  29.05.2017 14:35:41                           \"Линия Улыбки\" - Клиника   \n",
              "184  31.05.2017 12:22:09                             \"Центродент\" - Клиника   \n",
              "185   15.01.2018 0:18:23                           \"Линия Улыбки\" - Клиника   \n",
              "186  04.03.2019 14:41:25                           \"Линия Улыбки\" - Клиника   \n",
              "\n",
              "                                Doctor and Clinic name  \\\n",
              "0                                                  NaN   \n",
              "1                                                  NaN   \n",
              "2                                                  NaN   \n",
              "3                                                  NaN   \n",
              "4                                                  NaN   \n",
              "..                                                 ...   \n",
              "182                   Саленко, Пинькевич. (Центродент)   \n",
              "183  Коровкин Владимир Владимирович - Клининка \"Лин...   \n",
              "184  Москалюк Ольга Владимировна - Клиника \"Центрод...   \n",
              "185  Воецкая Лилия Владимировна - Клиника \"Линия Ул...   \n",
              "186  Воецкая Лилия Владимировна - Клиника \"Линия Ул...   \n",
              "\n",
              "                                  Customers true story  \\\n",
              "0                                                  NaN   \n",
              "1                                                  NaN   \n",
              "2                                                  NaN   \n",
              "3                                                  NaN   \n",
              "4                                                  NaN   \n",
              "..                                                 ...   \n",
              "182                                                NaN   \n",
              "183                                                NaN   \n",
              "184                                                NaN   \n",
              "185                                                NaN   \n",
              "186  Вся семья лечится больше 7 лет. Побольше бы та...   \n",
              "\n",
              "                Clinic_Name_Translated  \\\n",
              "0    \"Regional dental clinic\" - clinic   \n",
              "1    \"Regional dental clinic\" - clinic   \n",
              "2    \"Regional dental clinic\" - clinic   \n",
              "3    \"Regional dental clinic\" - clinic   \n",
              "4                  \"First\" is a clinic   \n",
              "..                                 ...   \n",
              "182     \"Central District\" is a clinic   \n",
              "183              \"Smile Line\" - Clinic   \n",
              "184     \"Central District\" is a clinic   \n",
              "185              \"Smile Line\" - Clinic   \n",
              "186              \"Smile Line\" - Clinic   \n",
              "\n",
              "                     Doctor_and_Clinic_Name_Translated  \\\n",
              "0                                                  NaN   \n",
              "1                                                  NaN   \n",
              "2                                                  NaN   \n",
              "3                                                  NaN   \n",
              "4                                                  NaN   \n",
              "..                                                 ...   \n",
              "182             Salenko, Pinkievich.(Central District)   \n",
              "183  Korovkin Vladimir Vladimirovich - Klinin \"Line...   \n",
              "184     Moskalyuk Olga Vladimirovna - Clinic \"Central\"   \n",
              "185  Voetskaya Lilia Vladimirovna - Clinic \"Line of...   \n",
              "186  Voetskaya Lilia Vladimirovna - Clinic \"Line of...   \n",
              "\n",
              "                        Customer_True_Story_Translated        Date  \n",
              "0                                                  NaN  23.02.2017  \n",
              "1                                                  NaN  23.02.2017  \n",
              "2                                                  NaN  23.02.2017  \n",
              "3                                                  NaN  23.02.2017  \n",
              "4                                                  NaN  23.02.2017  \n",
              "..                                                 ...         ...  \n",
              "182                                                NaN  26.05.2017  \n",
              "183                                                NaN  29.05.2017  \n",
              "184                                                NaN  31.05.2017  \n",
              "185                                                NaN  15.01.2018  \n",
              "186  The whole family has been treated for more tha...  04.03.2019  \n",
              "\n",
              "[187 rows x 8 columns]"
            ],
            "text/html": [
              "\n",
              "  <div id=\"df-4499c00f-386d-4446-a31f-9b5c19042ece\" class=\"colab-df-container\">\n",
              "    <div>\n",
              "<style scoped>\n",
              "    .dataframe tbody tr th:only-of-type {\n",
              "        vertical-align: middle;\n",
              "    }\n",
              "\n",
              "    .dataframe tbody tr th {\n",
              "        vertical-align: top;\n",
              "    }\n",
              "\n",
              "    .dataframe thead th {\n",
              "        text-align: right;\n",
              "    }\n",
              "</style>\n",
              "<table border=\"1\" class=\"dataframe\">\n",
              "  <thead>\n",
              "    <tr style=\"text-align: right;\">\n",
              "      <th></th>\n",
              "      <th>Timestamp</th>\n",
              "      <th>Clinic name</th>\n",
              "      <th>Doctor and Clinic name</th>\n",
              "      <th>Customers true story</th>\n",
              "      <th>Clinic_Name_Translated</th>\n",
              "      <th>Doctor_and_Clinic_Name_Translated</th>\n",
              "      <th>Customer_True_Story_Translated</th>\n",
              "      <th>Date</th>\n",
              "    </tr>\n",
              "  </thead>\n",
              "  <tbody>\n",
              "    <tr>\n",
              "      <th>0</th>\n",
              "      <td>23.02.2017 1:32:45</td>\n",
              "      <td>\"Областная стоматологическая поликлиника\" - Кл...</td>\n",
              "      <td>NaN</td>\n",
              "      <td>NaN</td>\n",
              "      <td>\"Regional dental clinic\" - clinic</td>\n",
              "      <td>NaN</td>\n",
              "      <td>NaN</td>\n",
              "      <td>23.02.2017</td>\n",
              "    </tr>\n",
              "    <tr>\n",
              "      <th>1</th>\n",
              "      <td>23.02.2017 1:33:02</td>\n",
              "      <td>\"Областная стоматологическая поликлиника\" - Кл...</td>\n",
              "      <td>NaN</td>\n",
              "      <td>NaN</td>\n",
              "      <td>\"Regional dental clinic\" - clinic</td>\n",
              "      <td>NaN</td>\n",
              "      <td>NaN</td>\n",
              "      <td>23.02.2017</td>\n",
              "    </tr>\n",
              "    <tr>\n",
              "      <th>2</th>\n",
              "      <td>23.02.2017 1:33:19</td>\n",
              "      <td>\"Областная стоматологическая поликлиника\" - Кл...</td>\n",
              "      <td>NaN</td>\n",
              "      <td>NaN</td>\n",
              "      <td>\"Regional dental clinic\" - clinic</td>\n",
              "      <td>NaN</td>\n",
              "      <td>NaN</td>\n",
              "      <td>23.02.2017</td>\n",
              "    </tr>\n",
              "    <tr>\n",
              "      <th>3</th>\n",
              "      <td>23.02.2017 1:33:40</td>\n",
              "      <td>\"Областная стоматологическая поликлиника\" - Кл...</td>\n",
              "      <td>NaN</td>\n",
              "      <td>NaN</td>\n",
              "      <td>\"Regional dental clinic\" - clinic</td>\n",
              "      <td>NaN</td>\n",
              "      <td>NaN</td>\n",
              "      <td>23.02.2017</td>\n",
              "    </tr>\n",
              "    <tr>\n",
              "      <th>4</th>\n",
              "      <td>23.02.2017 1:34:14</td>\n",
              "      <td>\"Первый\" - Клиника</td>\n",
              "      <td>NaN</td>\n",
              "      <td>NaN</td>\n",
              "      <td>\"First\" is a clinic</td>\n",
              "      <td>NaN</td>\n",
              "      <td>NaN</td>\n",
              "      <td>23.02.2017</td>\n",
              "    </tr>\n",
              "    <tr>\n",
              "      <th>...</th>\n",
              "      <td>...</td>\n",
              "      <td>...</td>\n",
              "      <td>...</td>\n",
              "      <td>...</td>\n",
              "      <td>...</td>\n",
              "      <td>...</td>\n",
              "      <td>...</td>\n",
              "      <td>...</td>\n",
              "    </tr>\n",
              "    <tr>\n",
              "      <th>182</th>\n",
              "      <td>26.05.2017 11:59:17</td>\n",
              "      <td>\"Центродент\" - Клиника</td>\n",
              "      <td>Саленко, Пинькевич. (Центродент)</td>\n",
              "      <td>NaN</td>\n",
              "      <td>\"Central District\" is a clinic</td>\n",
              "      <td>Salenko, Pinkievich.(Central District)</td>\n",
              "      <td>NaN</td>\n",
              "      <td>26.05.2017</td>\n",
              "    </tr>\n",
              "    <tr>\n",
              "      <th>183</th>\n",
              "      <td>29.05.2017 14:35:41</td>\n",
              "      <td>\"Линия Улыбки\" - Клиника</td>\n",
              "      <td>Коровкин Владимир Владимирович - Клининка \"Лин...</td>\n",
              "      <td>NaN</td>\n",
              "      <td>\"Smile Line\" - Clinic</td>\n",
              "      <td>Korovkin Vladimir Vladimirovich - Klinin \"Line...</td>\n",
              "      <td>NaN</td>\n",
              "      <td>29.05.2017</td>\n",
              "    </tr>\n",
              "    <tr>\n",
              "      <th>184</th>\n",
              "      <td>31.05.2017 12:22:09</td>\n",
              "      <td>\"Центродент\" - Клиника</td>\n",
              "      <td>Москалюк Ольга Владимировна - Клиника \"Центрод...</td>\n",
              "      <td>NaN</td>\n",
              "      <td>\"Central District\" is a clinic</td>\n",
              "      <td>Moskalyuk Olga Vladimirovna - Clinic \"Central\"</td>\n",
              "      <td>NaN</td>\n",
              "      <td>31.05.2017</td>\n",
              "    </tr>\n",
              "    <tr>\n",
              "      <th>185</th>\n",
              "      <td>15.01.2018 0:18:23</td>\n",
              "      <td>\"Линия Улыбки\" - Клиника</td>\n",
              "      <td>Воецкая Лилия Владимировна - Клиника \"Линия Ул...</td>\n",
              "      <td>NaN</td>\n",
              "      <td>\"Smile Line\" - Clinic</td>\n",
              "      <td>Voetskaya Lilia Vladimirovna - Clinic \"Line of...</td>\n",
              "      <td>NaN</td>\n",
              "      <td>15.01.2018</td>\n",
              "    </tr>\n",
              "    <tr>\n",
              "      <th>186</th>\n",
              "      <td>04.03.2019 14:41:25</td>\n",
              "      <td>\"Линия Улыбки\" - Клиника</td>\n",
              "      <td>Воецкая Лилия Владимировна - Клиника \"Линия Ул...</td>\n",
              "      <td>Вся семья лечится больше 7 лет. Побольше бы та...</td>\n",
              "      <td>\"Smile Line\" - Clinic</td>\n",
              "      <td>Voetskaya Lilia Vladimirovna - Clinic \"Line of...</td>\n",
              "      <td>The whole family has been treated for more tha...</td>\n",
              "      <td>04.03.2019</td>\n",
              "    </tr>\n",
              "  </tbody>\n",
              "</table>\n",
              "<p>187 rows × 8 columns</p>\n",
              "</div>\n",
              "    <div class=\"colab-df-buttons\">\n",
              "\n",
              "  <div class=\"colab-df-container\">\n",
              "    <button class=\"colab-df-convert\" onclick=\"convertToInteractive('df-4499c00f-386d-4446-a31f-9b5c19042ece')\"\n",
              "            title=\"Convert this dataframe to an interactive table.\"\n",
              "            style=\"display:none;\">\n",
              "\n",
              "  <svg xmlns=\"http://www.w3.org/2000/svg\" height=\"24px\" viewBox=\"0 -960 960 960\">\n",
              "    <path d=\"M120-120v-720h720v720H120Zm60-500h600v-160H180v160Zm220 220h160v-160H400v160Zm0 220h160v-160H400v160ZM180-400h160v-160H180v160Zm440 0h160v-160H620v160ZM180-180h160v-160H180v160Zm440 0h160v-160H620v160Z\"/>\n",
              "  </svg>\n",
              "    </button>\n",
              "\n",
              "  <style>\n",
              "    .colab-df-container {\n",
              "      display:flex;\n",
              "      gap: 12px;\n",
              "    }\n",
              "\n",
              "    .colab-df-convert {\n",
              "      background-color: #E8F0FE;\n",
              "      border: none;\n",
              "      border-radius: 50%;\n",
              "      cursor: pointer;\n",
              "      display: none;\n",
              "      fill: #1967D2;\n",
              "      height: 32px;\n",
              "      padding: 0 0 0 0;\n",
              "      width: 32px;\n",
              "    }\n",
              "\n",
              "    .colab-df-convert:hover {\n",
              "      background-color: #E2EBFA;\n",
              "      box-shadow: 0px 1px 2px rgba(60, 64, 67, 0.3), 0px 1px 3px 1px rgba(60, 64, 67, 0.15);\n",
              "      fill: #174EA6;\n",
              "    }\n",
              "\n",
              "    .colab-df-buttons div {\n",
              "      margin-bottom: 4px;\n",
              "    }\n",
              "\n",
              "    [theme=dark] .colab-df-convert {\n",
              "      background-color: #3B4455;\n",
              "      fill: #D2E3FC;\n",
              "    }\n",
              "\n",
              "    [theme=dark] .colab-df-convert:hover {\n",
              "      background-color: #434B5C;\n",
              "      box-shadow: 0px 1px 3px 1px rgba(0, 0, 0, 0.15);\n",
              "      filter: drop-shadow(0px 1px 2px rgba(0, 0, 0, 0.3));\n",
              "      fill: #FFFFFF;\n",
              "    }\n",
              "  </style>\n",
              "\n",
              "    <script>\n",
              "      const buttonEl =\n",
              "        document.querySelector('#df-4499c00f-386d-4446-a31f-9b5c19042ece button.colab-df-convert');\n",
              "      buttonEl.style.display =\n",
              "        google.colab.kernel.accessAllowed ? 'block' : 'none';\n",
              "\n",
              "      async function convertToInteractive(key) {\n",
              "        const element = document.querySelector('#df-4499c00f-386d-4446-a31f-9b5c19042ece');\n",
              "        const dataTable =\n",
              "          await google.colab.kernel.invokeFunction('convertToInteractive',\n",
              "                                                    [key], {});\n",
              "        if (!dataTable) return;\n",
              "\n",
              "        const docLinkHtml = 'Like what you see? Visit the ' +\n",
              "          '<a target=\"_blank\" href=https://colab.research.google.com/notebooks/data_table.ipynb>data table notebook</a>'\n",
              "          + ' to learn more about interactive tables.';\n",
              "        element.innerHTML = '';\n",
              "        dataTable['output_type'] = 'display_data';\n",
              "        await google.colab.output.renderOutput(dataTable, element);\n",
              "        const docLink = document.createElement('div');\n",
              "        docLink.innerHTML = docLinkHtml;\n",
              "        element.appendChild(docLink);\n",
              "      }\n",
              "    </script>\n",
              "  </div>\n",
              "\n",
              "\n",
              "<div id=\"df-949718ec-ebdd-4add-a637-db8cc28bb26d\">\n",
              "  <button class=\"colab-df-quickchart\" onclick=\"quickchart('df-949718ec-ebdd-4add-a637-db8cc28bb26d')\"\n",
              "            title=\"Suggest charts\"\n",
              "            style=\"display:none;\">\n",
              "\n",
              "<svg xmlns=\"http://www.w3.org/2000/svg\" height=\"24px\"viewBox=\"0 0 24 24\"\n",
              "     width=\"24px\">\n",
              "    <g>\n",
              "        <path d=\"M19 3H5c-1.1 0-2 .9-2 2v14c0 1.1.9 2 2 2h14c1.1 0 2-.9 2-2V5c0-1.1-.9-2-2-2zM9 17H7v-7h2v7zm4 0h-2V7h2v10zm4 0h-2v-4h2v4z\"/>\n",
              "    </g>\n",
              "</svg>\n",
              "  </button>\n",
              "\n",
              "<style>\n",
              "  .colab-df-quickchart {\n",
              "      --bg-color: #E8F0FE;\n",
              "      --fill-color: #1967D2;\n",
              "      --hover-bg-color: #E2EBFA;\n",
              "      --hover-fill-color: #174EA6;\n",
              "      --disabled-fill-color: #AAA;\n",
              "      --disabled-bg-color: #DDD;\n",
              "  }\n",
              "\n",
              "  [theme=dark] .colab-df-quickchart {\n",
              "      --bg-color: #3B4455;\n",
              "      --fill-color: #D2E3FC;\n",
              "      --hover-bg-color: #434B5C;\n",
              "      --hover-fill-color: #FFFFFF;\n",
              "      --disabled-bg-color: #3B4455;\n",
              "      --disabled-fill-color: #666;\n",
              "  }\n",
              "\n",
              "  .colab-df-quickchart {\n",
              "    background-color: var(--bg-color);\n",
              "    border: none;\n",
              "    border-radius: 50%;\n",
              "    cursor: pointer;\n",
              "    display: none;\n",
              "    fill: var(--fill-color);\n",
              "    height: 32px;\n",
              "    padding: 0;\n",
              "    width: 32px;\n",
              "  }\n",
              "\n",
              "  .colab-df-quickchart:hover {\n",
              "    background-color: var(--hover-bg-color);\n",
              "    box-shadow: 0 1px 2px rgba(60, 64, 67, 0.3), 0 1px 3px 1px rgba(60, 64, 67, 0.15);\n",
              "    fill: var(--button-hover-fill-color);\n",
              "  }\n",
              "\n",
              "  .colab-df-quickchart-complete:disabled,\n",
              "  .colab-df-quickchart-complete:disabled:hover {\n",
              "    background-color: var(--disabled-bg-color);\n",
              "    fill: var(--disabled-fill-color);\n",
              "    box-shadow: none;\n",
              "  }\n",
              "\n",
              "  .colab-df-spinner {\n",
              "    border: 2px solid var(--fill-color);\n",
              "    border-color: transparent;\n",
              "    border-bottom-color: var(--fill-color);\n",
              "    animation:\n",
              "      spin 1s steps(1) infinite;\n",
              "  }\n",
              "\n",
              "  @keyframes spin {\n",
              "    0% {\n",
              "      border-color: transparent;\n",
              "      border-bottom-color: var(--fill-color);\n",
              "      border-left-color: var(--fill-color);\n",
              "    }\n",
              "    20% {\n",
              "      border-color: transparent;\n",
              "      border-left-color: var(--fill-color);\n",
              "      border-top-color: var(--fill-color);\n",
              "    }\n",
              "    30% {\n",
              "      border-color: transparent;\n",
              "      border-left-color: var(--fill-color);\n",
              "      border-top-color: var(--fill-color);\n",
              "      border-right-color: var(--fill-color);\n",
              "    }\n",
              "    40% {\n",
              "      border-color: transparent;\n",
              "      border-right-color: var(--fill-color);\n",
              "      border-top-color: var(--fill-color);\n",
              "    }\n",
              "    60% {\n",
              "      border-color: transparent;\n",
              "      border-right-color: var(--fill-color);\n",
              "    }\n",
              "    80% {\n",
              "      border-color: transparent;\n",
              "      border-right-color: var(--fill-color);\n",
              "      border-bottom-color: var(--fill-color);\n",
              "    }\n",
              "    90% {\n",
              "      border-color: transparent;\n",
              "      border-bottom-color: var(--fill-color);\n",
              "    }\n",
              "  }\n",
              "</style>\n",
              "\n",
              "  <script>\n",
              "    async function quickchart(key) {\n",
              "      const quickchartButtonEl =\n",
              "        document.querySelector('#' + key + ' button');\n",
              "      quickchartButtonEl.disabled = true;  // To prevent multiple clicks.\n",
              "      quickchartButtonEl.classList.add('colab-df-spinner');\n",
              "      try {\n",
              "        const charts = await google.colab.kernel.invokeFunction(\n",
              "            'suggestCharts', [key], {});\n",
              "      } catch (error) {\n",
              "        console.error('Error during call to suggestCharts:', error);\n",
              "      }\n",
              "      quickchartButtonEl.classList.remove('colab-df-spinner');\n",
              "      quickchartButtonEl.classList.add('colab-df-quickchart-complete');\n",
              "    }\n",
              "    (() => {\n",
              "      let quickchartButtonEl =\n",
              "        document.querySelector('#df-949718ec-ebdd-4add-a637-db8cc28bb26d button');\n",
              "      quickchartButtonEl.style.display =\n",
              "        google.colab.kernel.accessAllowed ? 'block' : 'none';\n",
              "    })();\n",
              "  </script>\n",
              "</div>\n",
              "\n",
              "  <div id=\"id_5fd22be7-0761-47b7-8599-3c0941aed8ce\">\n",
              "    <style>\n",
              "      .colab-df-generate {\n",
              "        background-color: #E8F0FE;\n",
              "        border: none;\n",
              "        border-radius: 50%;\n",
              "        cursor: pointer;\n",
              "        display: none;\n",
              "        fill: #1967D2;\n",
              "        height: 32px;\n",
              "        padding: 0 0 0 0;\n",
              "        width: 32px;\n",
              "      }\n",
              "\n",
              "      .colab-df-generate:hover {\n",
              "        background-color: #E2EBFA;\n",
              "        box-shadow: 0px 1px 2px rgba(60, 64, 67, 0.3), 0px 1px 3px 1px rgba(60, 64, 67, 0.15);\n",
              "        fill: #174EA6;\n",
              "      }\n",
              "\n",
              "      [theme=dark] .colab-df-generate {\n",
              "        background-color: #3B4455;\n",
              "        fill: #D2E3FC;\n",
              "      }\n",
              "\n",
              "      [theme=dark] .colab-df-generate:hover {\n",
              "        background-color: #434B5C;\n",
              "        box-shadow: 0px 1px 3px 1px rgba(0, 0, 0, 0.15);\n",
              "        filter: drop-shadow(0px 1px 2px rgba(0, 0, 0, 0.3));\n",
              "        fill: #FFFFFF;\n",
              "      }\n",
              "    </style>\n",
              "    <button class=\"colab-df-generate\" onclick=\"generateWithVariable('df')\"\n",
              "            title=\"Generate code using this dataframe.\"\n",
              "            style=\"display:none;\">\n",
              "\n",
              "  <svg xmlns=\"http://www.w3.org/2000/svg\" height=\"24px\"viewBox=\"0 0 24 24\"\n",
              "       width=\"24px\">\n",
              "    <path d=\"M7,19H8.4L18.45,9,17,7.55,7,17.6ZM5,21V16.75L18.45,3.32a2,2,0,0,1,2.83,0l1.4,1.43a1.91,1.91,0,0,1,.58,1.4,1.91,1.91,0,0,1-.58,1.4L9.25,21ZM18.45,9,17,7.55Zm-12,3A5.31,5.31,0,0,0,4.9,8.1,5.31,5.31,0,0,0,1,6.5,5.31,5.31,0,0,0,4.9,4.9,5.31,5.31,0,0,0,6.5,1,5.31,5.31,0,0,0,8.1,4.9,5.31,5.31,0,0,0,12,6.5,5.46,5.46,0,0,0,6.5,12Z\"/>\n",
              "  </svg>\n",
              "    </button>\n",
              "    <script>\n",
              "      (() => {\n",
              "      const buttonEl =\n",
              "        document.querySelector('#id_5fd22be7-0761-47b7-8599-3c0941aed8ce button.colab-df-generate');\n",
              "      buttonEl.style.display =\n",
              "        google.colab.kernel.accessAllowed ? 'block' : 'none';\n",
              "\n",
              "      buttonEl.onclick = () => {\n",
              "        google.colab.notebook.generateWithVariable('df');\n",
              "      }\n",
              "      })();\n",
              "    </script>\n",
              "  </div>\n",
              "\n",
              "    </div>\n",
              "  </div>\n"
            ],
            "application/vnd.google.colaboratory.intrinsic+json": {
              "type": "dataframe",
              "variable_name": "df",
              "summary": "{\n  \"name\": \"df\",\n  \"rows\": 187,\n  \"fields\": [\n    {\n      \"column\": \"Timestamp\",\n      \"properties\": {\n        \"dtype\": \"object\",\n        \"num_unique_values\": 187,\n        \"samples\": [\n          \"15.01.2018 0:18:23\",\n          \"24.02.2017 9:31:39\",\n          \"23.02.2017 1:46:30\"\n        ],\n        \"semantic_type\": \"\",\n        \"description\": \"\"\n      }\n    },\n    {\n      \"column\": \"Clinic name\",\n      \"properties\": {\n        \"dtype\": \"category\",\n        \"num_unique_values\": 32,\n        \"samples\": [\n          \"\\u041e\\u0440\\u0430\\u043d\\u0436\\u0434\\u0435\\u043d\\u0442\",\n          \"\\u041c\\u0430\\u043a\\u0441\\u0438\\u0434\\u0435\\u043d\\u0442\",\n          \"\\u0414\\u0438\\u043e\\u043c\\u0435\\u0434\"\n        ],\n        \"semantic_type\": \"\",\n        \"description\": \"\"\n      }\n    },\n    {\n      \"column\": \"Doctor and Clinic name\",\n      \"properties\": {\n        \"dtype\": \"category\",\n        \"num_unique_values\": 39,\n        \"samples\": [\n          \"\\u041e\\u0441\\u0438\\u043f\\u043e\\u0432\\u0430 \\u041b\\u0430\\u0440\\u0438\\u0441\\u0430 \\u041d\\u0438\\u043a\\u043e\\u043b\\u0430\\u0435\\u0432\\u043d\\u0430 - \\u041a\\u043b\\u0438\\u043d\\u0438\\u043a\\u0430 \\\"\\u0414\\u0438\\u043e\\u043c\\u0435\\u0434\\\"\",\n          \"\\u041a\\u043e\\u043d\\u043e\\u0432\\u0430\\u043b\\u043e\\u0432\\u0430  \\u041d\\u0430\\u0442\\u0430\\u043b\\u044c\\u044f \\u0413\\u0435\\u043d\\u043d\\u0430\\u0434\\u044c\\u0435\\u0432\\u043d\\u0430\",\n          \"\\u041a\\u043e\\u0440\\u043e\\u0432\\u043a\\u0438\\u043d \\u0412\\u043b\\u0430\\u0434\\u0438\\u043c\\u0438\\u0440 \\u0412\\u043b\\u0430\\u0434\\u0438\\u043c\\u0438\\u0440\\u043e\\u0432\\u0438\\u0447 - \\u041a\\u043b\\u0438\\u043d\\u0438\\u043d\\u043a\\u0430 \\\"\\u041b\\u0438\\u043d\\u0438\\u044f \\u0443\\u043b\\u044b\\u0431\\u043a\\u0438\\\"\"\n        ],\n        \"semantic_type\": \"\",\n        \"description\": \"\"\n      }\n    },\n    {\n      \"column\": \"Customers true story\",\n      \"properties\": {\n        \"dtype\": \"category\",\n        \"num_unique_values\": 8,\n        \"samples\": [\n          \"\\u041b\\u0435\\u0447\\u0443\\u0441\\u044c \\u0443\\u0436\\u0435 \\u0431\\u043e\\u043b\\u044c\\u0448\\u0435 10 \\u043b\\u0435\\u0442 \\u0443 \\u0412\\u043e\\u0435\\u0446\\u043a\\u043e\\u0439 \\u041b\\u0438\\u043b\\u0438\\u0438 \\u0412\\u043b\\u0430\\u0434\\u0438\\u043c\\u0438\\u0440\\u043e\\u0432\\u043d\\u044b. \\u041f\\u0440\\u043e \\u0442\\u0430\\u043a\\u0438\\u0445 \\u0432\\u0440\\u0430\\u0447\\u0435\\u0439 \\u0433\\u043e\\u0432\\u043e\\u0440\\u044f\\u0442 - \\u0434\\u043e\\u043a\\u0442\\u043e\\u0440 \\u043e\\u0442 \\u0431\\u043e\\u0433\\u0430. \\u041f\\u043b\\u043e\\u043c\\u0431\\u044b \\u0438 \\u0440\\u0435\\u0441\\u0442\\u0430\\u0432\\u0440\\u0430\\u0446\\u0438\\u0438 \\u0441\\u0442\\u043e\\u044f\\u0442 \\u0431\\u043e\\u043b\\u044c\\u0448\\u0435 10 - 9 \\u043b\\u0435\\u0442 \\u0443\\u0436\\u0435. \\u0412\\u043d\\u0438\\u043c\\u0430\\u0442\\u0435\\u043b\\u044c\\u043d\\u044b\\u0439 \\u0438 \\u0447\\u0443\\u0442\\u043a\\u0438\\u0439 \\u0432\\u0440\\u0430\\u0447, \\u043f\\u0440\\u043e\\u0444\\u0435\\u0441\\u0441\\u0438\\u043e\\u043d\\u0430\\u043b \\u0441\\u0432\\u043e\\u0435\\u0433\\u043e \\u0434\\u0435\\u043b\\u0430. \",\n          \"\\u041e\\u0440\\u0430\\u043d\\u0436\\u0434\\u0435\\u043d\\u0442 - \\u0445\\u043e\\u0440\\u043e\\u0448\\u0438\\u0439 \\u0432\\u0440\\u0430\\u0447 \\u0414\\u0443\\u0431\\u0446\\u043e\\u0432\\u0430 \\u0418\\u0440\\u0438\\u043d\\u0430 \\u0410\\u043b\\u0435\\u043a\\u0441\\u0435\\u0435\\u0432\\u043d\\u0430\",\n          \"\\u0421\\u0430\\u043c \\u043b\\u0435\\u0447\\u0443\\u0441\\u044c \\u0438 \\u043f\\u0440\\u043e\\u0442\\u0435\\u0437\\u0438\\u0440\\u043e\\u0432\\u0430\\u043b\\u0441\\u044f \\u0443 \\u043d\\u0435\\u0433\\u043e, \\u0438 \\u043a\\u0443\\u0447\\u0443 \\u0437\\u043d\\u0430\\u043a\\u043e\\u043c\\u044b\\u0445 \\u043e\\u0442\\u043f\\u0440\\u0430\\u0432\\u0438\\u043b. \\u0412\\u0441\\u0435 \\u0434\\u043e\\u0432\\u043e\\u043b\\u044c\\u043d\\u044b. \\u041a\\u0430\\u0447\\u0435\\u0441\\u0442\\u0432\\u043e \\u0438 \\u043e\\u0442\\u043d\\u043e\\u0448\\u0435\\u043d\\u0438\\u0435 \\u043d\\u0430 \\u0443\\u0440\\u043e\\u0432\\u043d\\u0435!\"\n        ],\n        \"semantic_type\": \"\",\n        \"description\": \"\"\n      }\n    },\n    {\n      \"column\": \"Clinic_Name_Translated\",\n      \"properties\": {\n        \"dtype\": \"category\",\n        \"num_unique_values\": 32,\n        \"samples\": [\n          \"Orange\",\n          \"Maxi\",\n          \"Diomed\"\n        ],\n        \"semantic_type\": \"\",\n        \"description\": \"\"\n      }\n    },\n    {\n      \"column\": \"Doctor_and_Clinic_Name_Translated\",\n      \"properties\": {\n        \"dtype\": \"category\",\n        \"num_unique_values\": 39,\n        \"samples\": [\n          \"Osipova Larisa Nikolaevna - clinic \\\"Diomed\\\"\",\n          \"Konovalova Natalya Gennadievna\",\n          \"Korovkin Vladimir Vladimirovich - Klinin \\\"Line of Smile\\\"\"\n        ],\n        \"semantic_type\": \"\",\n        \"description\": \"\"\n      }\n    },\n    {\n      \"column\": \"Customer_True_Story_Translated\",\n      \"properties\": {\n        \"dtype\": \"category\",\n        \"num_unique_values\": 8,\n        \"samples\": [\n          \"I have been treated for more than 10 years in Voetsky Lilia Vladimirovna.They say about such doctors - a doctor from God.Samples and restorations have been worth more than 10 to 9 years already.An attentive and sensitive doctor, a professional in his field.\",\n          \"Orange - good doctor Dubtsova Irina Alekseevna\",\n          \"I was treated and prostheted from him, and sent a bunch of acquaintances.Everyone is happy.Quality and attitude at the level!\"\n        ],\n        \"semantic_type\": \"\",\n        \"description\": \"\"\n      }\n    },\n    {\n      \"column\": \"Date\",\n      \"properties\": {\n        \"dtype\": \"object\",\n        \"num_unique_values\": 57,\n        \"samples\": [\n          \"23.02.2017\",\n          \"28.02.2017\",\n          \"07.04.2017\"\n        ],\n        \"semantic_type\": \"\",\n        \"description\": \"\"\n      }\n    }\n  ]\n}"
            }
          },
          "metadata": {},
          "execution_count": 28
        }
      ]
    },
    {
      "cell_type": "markdown",
      "source": [
        "## Step 4: Clean Column Names"
      ],
      "metadata": {
        "id": "mHKwel4SSHhf"
      }
    },
    {
      "cell_type": "code",
      "source": [
        "# Remove duplicates and standardize column names\n",
        "df = df.rename(columns={\n",
        "    'Clinic_Name_Translated': 'Clinic_Name_Translated',\n",
        "    'Clinic_name_Translated': 'Clinic_Name_Translated',\n",
        "    'Doctor_and_Clinic_name_Translated': 'Doctor_and_Clinic_Name_Translated',\n",
        "    'Customer_true_story_Translated': 'Customer_True_Story_Translated'\n",
        "})\n",
        "\n",
        "# Drop any duplicate columns (if both exist after renaming)\n",
        "df = df.loc[:, ~df.columns.duplicated()]\n",
        "\n",
        "# Display updated column names\n",
        "print(\"Updated Column Names:\", df.columns)"
      ],
      "metadata": {
        "colab": {
          "base_uri": "https://localhost:8080/"
        },
        "id": "d-MS5CYRSHIH",
        "outputId": "ab54e561-7ea7-4d7e-ec34-1a7bf8239dde"
      },
      "execution_count": 29,
      "outputs": [
        {
          "output_type": "stream",
          "name": "stdout",
          "text": [
            "Updated Column Names: Index(['Timestamp', 'Clinic name', 'Doctor and Clinic name',\n",
            "       'Customers true story', 'Clinic_Name_Translated',\n",
            "       'Doctor_and_Clinic_Name_Translated', 'Customer_True_Story_Translated',\n",
            "       'Date'],\n",
            "      dtype='object')\n"
          ]
        }
      ]
    },
    {
      "cell_type": "code",
      "source": [
        "#Drop the cirrilica columns\n",
        "df = df.drop(columns=['Clinic name'])\n",
        "df = df.drop(columns=['Doctor and Clinic name'])\n",
        "df = df.drop(columns=['Customers true story'])  # Drop the original column"
      ],
      "metadata": {
        "id": "7n_sRMgmUqY9"
      },
      "execution_count": 36,
      "outputs": []
    },
    {
      "cell_type": "code",
      "source": [
        "#Translate columns accoridng to my vision\n",
        "df = df.rename(columns={'Clinic_Name_Translated': 'Clinic_name'})\n",
        "df = df.rename(columns={'Doctor_and_Clinic_Name_Translated': 'Doctor_and_Clinic_name'})\n",
        "df = df.rename(columns={'Customer_True_Story_Translated': 'Customer_true_story'})"
      ],
      "metadata": {
        "id": "GRVdFprKVEkl"
      },
      "execution_count": 38,
      "outputs": []
    },
    {
      "cell_type": "code",
      "source": [
        "# Move 'Date' to the beginning\n",
        "columns = ['Date'] + [col for col in df.columns if col != 'Date']\n",
        "df = df[columns]\n",
        "\n",
        "# Check the result\n",
        "print(df.head())\n"
      ],
      "metadata": {
        "colab": {
          "base_uri": "https://localhost:8080/"
        },
        "id": "5PEbQsCqVegL",
        "outputId": "5b5a1f22-dd30-4ed4-fab7-85db913561d5"
      },
      "execution_count": 40,
      "outputs": [
        {
          "output_type": "stream",
          "name": "stdout",
          "text": [
            "         Date                        Clinic_name Doctor_and_Clinic_name  \\\n",
            "0  23.02.2017  \"Regional dental clinic\" - clinic                    NaN   \n",
            "1  23.02.2017  \"Regional dental clinic\" - clinic                    NaN   \n",
            "2  23.02.2017  \"Regional dental clinic\" - clinic                    NaN   \n",
            "3  23.02.2017  \"Regional dental clinic\" - clinic                    NaN   \n",
            "4  23.02.2017                \"First\" is a clinic                    NaN   \n",
            "\n",
            "  Customer_true_story  \n",
            "0                 NaN  \n",
            "1                 NaN  \n",
            "2                 NaN  \n",
            "3                 NaN  \n",
            "4                 NaN  \n"
          ]
        }
      ]
    },
    {
      "cell_type": "code",
      "source": [
        "df"
      ],
      "metadata": {
        "colab": {
          "base_uri": "https://localhost:8080/",
          "height": 424
        },
        "id": "RRZxXA3kS-z5",
        "outputId": "6223bfc2-63fd-4be1-bc3a-9957c2fc4f96"
      },
      "execution_count": 41,
      "outputs": [
        {
          "output_type": "execute_result",
          "data": {
            "text/plain": [
              "           Date                        Clinic_name  \\\n",
              "0    23.02.2017  \"Regional dental clinic\" - clinic   \n",
              "1    23.02.2017  \"Regional dental clinic\" - clinic   \n",
              "2    23.02.2017  \"Regional dental clinic\" - clinic   \n",
              "3    23.02.2017  \"Regional dental clinic\" - clinic   \n",
              "4    23.02.2017                \"First\" is a clinic   \n",
              "..          ...                                ...   \n",
              "182  26.05.2017     \"Central District\" is a clinic   \n",
              "183  29.05.2017              \"Smile Line\" - Clinic   \n",
              "184  31.05.2017     \"Central District\" is a clinic   \n",
              "185  15.01.2018              \"Smile Line\" - Clinic   \n",
              "186  04.03.2019              \"Smile Line\" - Clinic   \n",
              "\n",
              "                                Doctor_and_Clinic_name  \\\n",
              "0                                                  NaN   \n",
              "1                                                  NaN   \n",
              "2                                                  NaN   \n",
              "3                                                  NaN   \n",
              "4                                                  NaN   \n",
              "..                                                 ...   \n",
              "182             Salenko, Pinkievich.(Central District)   \n",
              "183  Korovkin Vladimir Vladimirovich - Klinin \"Line...   \n",
              "184     Moskalyuk Olga Vladimirovna - Clinic \"Central\"   \n",
              "185  Voetskaya Lilia Vladimirovna - Clinic \"Line of...   \n",
              "186  Voetskaya Lilia Vladimirovna - Clinic \"Line of...   \n",
              "\n",
              "                                   Customer_true_story  \n",
              "0                                                  NaN  \n",
              "1                                                  NaN  \n",
              "2                                                  NaN  \n",
              "3                                                  NaN  \n",
              "4                                                  NaN  \n",
              "..                                                 ...  \n",
              "182                                                NaN  \n",
              "183                                                NaN  \n",
              "184                                                NaN  \n",
              "185                                                NaN  \n",
              "186  The whole family has been treated for more tha...  \n",
              "\n",
              "[187 rows x 4 columns]"
            ],
            "text/html": [
              "\n",
              "  <div id=\"df-975fef71-89af-457e-8a6c-f5e2650fbf1f\" class=\"colab-df-container\">\n",
              "    <div>\n",
              "<style scoped>\n",
              "    .dataframe tbody tr th:only-of-type {\n",
              "        vertical-align: middle;\n",
              "    }\n",
              "\n",
              "    .dataframe tbody tr th {\n",
              "        vertical-align: top;\n",
              "    }\n",
              "\n",
              "    .dataframe thead th {\n",
              "        text-align: right;\n",
              "    }\n",
              "</style>\n",
              "<table border=\"1\" class=\"dataframe\">\n",
              "  <thead>\n",
              "    <tr style=\"text-align: right;\">\n",
              "      <th></th>\n",
              "      <th>Date</th>\n",
              "      <th>Clinic_name</th>\n",
              "      <th>Doctor_and_Clinic_name</th>\n",
              "      <th>Customer_true_story</th>\n",
              "    </tr>\n",
              "  </thead>\n",
              "  <tbody>\n",
              "    <tr>\n",
              "      <th>0</th>\n",
              "      <td>23.02.2017</td>\n",
              "      <td>\"Regional dental clinic\" - clinic</td>\n",
              "      <td>NaN</td>\n",
              "      <td>NaN</td>\n",
              "    </tr>\n",
              "    <tr>\n",
              "      <th>1</th>\n",
              "      <td>23.02.2017</td>\n",
              "      <td>\"Regional dental clinic\" - clinic</td>\n",
              "      <td>NaN</td>\n",
              "      <td>NaN</td>\n",
              "    </tr>\n",
              "    <tr>\n",
              "      <th>2</th>\n",
              "      <td>23.02.2017</td>\n",
              "      <td>\"Regional dental clinic\" - clinic</td>\n",
              "      <td>NaN</td>\n",
              "      <td>NaN</td>\n",
              "    </tr>\n",
              "    <tr>\n",
              "      <th>3</th>\n",
              "      <td>23.02.2017</td>\n",
              "      <td>\"Regional dental clinic\" - clinic</td>\n",
              "      <td>NaN</td>\n",
              "      <td>NaN</td>\n",
              "    </tr>\n",
              "    <tr>\n",
              "      <th>4</th>\n",
              "      <td>23.02.2017</td>\n",
              "      <td>\"First\" is a clinic</td>\n",
              "      <td>NaN</td>\n",
              "      <td>NaN</td>\n",
              "    </tr>\n",
              "    <tr>\n",
              "      <th>...</th>\n",
              "      <td>...</td>\n",
              "      <td>...</td>\n",
              "      <td>...</td>\n",
              "      <td>...</td>\n",
              "    </tr>\n",
              "    <tr>\n",
              "      <th>182</th>\n",
              "      <td>26.05.2017</td>\n",
              "      <td>\"Central District\" is a clinic</td>\n",
              "      <td>Salenko, Pinkievich.(Central District)</td>\n",
              "      <td>NaN</td>\n",
              "    </tr>\n",
              "    <tr>\n",
              "      <th>183</th>\n",
              "      <td>29.05.2017</td>\n",
              "      <td>\"Smile Line\" - Clinic</td>\n",
              "      <td>Korovkin Vladimir Vladimirovich - Klinin \"Line...</td>\n",
              "      <td>NaN</td>\n",
              "    </tr>\n",
              "    <tr>\n",
              "      <th>184</th>\n",
              "      <td>31.05.2017</td>\n",
              "      <td>\"Central District\" is a clinic</td>\n",
              "      <td>Moskalyuk Olga Vladimirovna - Clinic \"Central\"</td>\n",
              "      <td>NaN</td>\n",
              "    </tr>\n",
              "    <tr>\n",
              "      <th>185</th>\n",
              "      <td>15.01.2018</td>\n",
              "      <td>\"Smile Line\" - Clinic</td>\n",
              "      <td>Voetskaya Lilia Vladimirovna - Clinic \"Line of...</td>\n",
              "      <td>NaN</td>\n",
              "    </tr>\n",
              "    <tr>\n",
              "      <th>186</th>\n",
              "      <td>04.03.2019</td>\n",
              "      <td>\"Smile Line\" - Clinic</td>\n",
              "      <td>Voetskaya Lilia Vladimirovna - Clinic \"Line of...</td>\n",
              "      <td>The whole family has been treated for more tha...</td>\n",
              "    </tr>\n",
              "  </tbody>\n",
              "</table>\n",
              "<p>187 rows × 4 columns</p>\n",
              "</div>\n",
              "    <div class=\"colab-df-buttons\">\n",
              "\n",
              "  <div class=\"colab-df-container\">\n",
              "    <button class=\"colab-df-convert\" onclick=\"convertToInteractive('df-975fef71-89af-457e-8a6c-f5e2650fbf1f')\"\n",
              "            title=\"Convert this dataframe to an interactive table.\"\n",
              "            style=\"display:none;\">\n",
              "\n",
              "  <svg xmlns=\"http://www.w3.org/2000/svg\" height=\"24px\" viewBox=\"0 -960 960 960\">\n",
              "    <path d=\"M120-120v-720h720v720H120Zm60-500h600v-160H180v160Zm220 220h160v-160H400v160Zm0 220h160v-160H400v160ZM180-400h160v-160H180v160Zm440 0h160v-160H620v160ZM180-180h160v-160H180v160Zm440 0h160v-160H620v160Z\"/>\n",
              "  </svg>\n",
              "    </button>\n",
              "\n",
              "  <style>\n",
              "    .colab-df-container {\n",
              "      display:flex;\n",
              "      gap: 12px;\n",
              "    }\n",
              "\n",
              "    .colab-df-convert {\n",
              "      background-color: #E8F0FE;\n",
              "      border: none;\n",
              "      border-radius: 50%;\n",
              "      cursor: pointer;\n",
              "      display: none;\n",
              "      fill: #1967D2;\n",
              "      height: 32px;\n",
              "      padding: 0 0 0 0;\n",
              "      width: 32px;\n",
              "    }\n",
              "\n",
              "    .colab-df-convert:hover {\n",
              "      background-color: #E2EBFA;\n",
              "      box-shadow: 0px 1px 2px rgba(60, 64, 67, 0.3), 0px 1px 3px 1px rgba(60, 64, 67, 0.15);\n",
              "      fill: #174EA6;\n",
              "    }\n",
              "\n",
              "    .colab-df-buttons div {\n",
              "      margin-bottom: 4px;\n",
              "    }\n",
              "\n",
              "    [theme=dark] .colab-df-convert {\n",
              "      background-color: #3B4455;\n",
              "      fill: #D2E3FC;\n",
              "    }\n",
              "\n",
              "    [theme=dark] .colab-df-convert:hover {\n",
              "      background-color: #434B5C;\n",
              "      box-shadow: 0px 1px 3px 1px rgba(0, 0, 0, 0.15);\n",
              "      filter: drop-shadow(0px 1px 2px rgba(0, 0, 0, 0.3));\n",
              "      fill: #FFFFFF;\n",
              "    }\n",
              "  </style>\n",
              "\n",
              "    <script>\n",
              "      const buttonEl =\n",
              "        document.querySelector('#df-975fef71-89af-457e-8a6c-f5e2650fbf1f button.colab-df-convert');\n",
              "      buttonEl.style.display =\n",
              "        google.colab.kernel.accessAllowed ? 'block' : 'none';\n",
              "\n",
              "      async function convertToInteractive(key) {\n",
              "        const element = document.querySelector('#df-975fef71-89af-457e-8a6c-f5e2650fbf1f');\n",
              "        const dataTable =\n",
              "          await google.colab.kernel.invokeFunction('convertToInteractive',\n",
              "                                                    [key], {});\n",
              "        if (!dataTable) return;\n",
              "\n",
              "        const docLinkHtml = 'Like what you see? Visit the ' +\n",
              "          '<a target=\"_blank\" href=https://colab.research.google.com/notebooks/data_table.ipynb>data table notebook</a>'\n",
              "          + ' to learn more about interactive tables.';\n",
              "        element.innerHTML = '';\n",
              "        dataTable['output_type'] = 'display_data';\n",
              "        await google.colab.output.renderOutput(dataTable, element);\n",
              "        const docLink = document.createElement('div');\n",
              "        docLink.innerHTML = docLinkHtml;\n",
              "        element.appendChild(docLink);\n",
              "      }\n",
              "    </script>\n",
              "  </div>\n",
              "\n",
              "\n",
              "<div id=\"df-69e683da-41df-47d1-965e-602ec0b93a79\">\n",
              "  <button class=\"colab-df-quickchart\" onclick=\"quickchart('df-69e683da-41df-47d1-965e-602ec0b93a79')\"\n",
              "            title=\"Suggest charts\"\n",
              "            style=\"display:none;\">\n",
              "\n",
              "<svg xmlns=\"http://www.w3.org/2000/svg\" height=\"24px\"viewBox=\"0 0 24 24\"\n",
              "     width=\"24px\">\n",
              "    <g>\n",
              "        <path d=\"M19 3H5c-1.1 0-2 .9-2 2v14c0 1.1.9 2 2 2h14c1.1 0 2-.9 2-2V5c0-1.1-.9-2-2-2zM9 17H7v-7h2v7zm4 0h-2V7h2v10zm4 0h-2v-4h2v4z\"/>\n",
              "    </g>\n",
              "</svg>\n",
              "  </button>\n",
              "\n",
              "<style>\n",
              "  .colab-df-quickchart {\n",
              "      --bg-color: #E8F0FE;\n",
              "      --fill-color: #1967D2;\n",
              "      --hover-bg-color: #E2EBFA;\n",
              "      --hover-fill-color: #174EA6;\n",
              "      --disabled-fill-color: #AAA;\n",
              "      --disabled-bg-color: #DDD;\n",
              "  }\n",
              "\n",
              "  [theme=dark] .colab-df-quickchart {\n",
              "      --bg-color: #3B4455;\n",
              "      --fill-color: #D2E3FC;\n",
              "      --hover-bg-color: #434B5C;\n",
              "      --hover-fill-color: #FFFFFF;\n",
              "      --disabled-bg-color: #3B4455;\n",
              "      --disabled-fill-color: #666;\n",
              "  }\n",
              "\n",
              "  .colab-df-quickchart {\n",
              "    background-color: var(--bg-color);\n",
              "    border: none;\n",
              "    border-radius: 50%;\n",
              "    cursor: pointer;\n",
              "    display: none;\n",
              "    fill: var(--fill-color);\n",
              "    height: 32px;\n",
              "    padding: 0;\n",
              "    width: 32px;\n",
              "  }\n",
              "\n",
              "  .colab-df-quickchart:hover {\n",
              "    background-color: var(--hover-bg-color);\n",
              "    box-shadow: 0 1px 2px rgba(60, 64, 67, 0.3), 0 1px 3px 1px rgba(60, 64, 67, 0.15);\n",
              "    fill: var(--button-hover-fill-color);\n",
              "  }\n",
              "\n",
              "  .colab-df-quickchart-complete:disabled,\n",
              "  .colab-df-quickchart-complete:disabled:hover {\n",
              "    background-color: var(--disabled-bg-color);\n",
              "    fill: var(--disabled-fill-color);\n",
              "    box-shadow: none;\n",
              "  }\n",
              "\n",
              "  .colab-df-spinner {\n",
              "    border: 2px solid var(--fill-color);\n",
              "    border-color: transparent;\n",
              "    border-bottom-color: var(--fill-color);\n",
              "    animation:\n",
              "      spin 1s steps(1) infinite;\n",
              "  }\n",
              "\n",
              "  @keyframes spin {\n",
              "    0% {\n",
              "      border-color: transparent;\n",
              "      border-bottom-color: var(--fill-color);\n",
              "      border-left-color: var(--fill-color);\n",
              "    }\n",
              "    20% {\n",
              "      border-color: transparent;\n",
              "      border-left-color: var(--fill-color);\n",
              "      border-top-color: var(--fill-color);\n",
              "    }\n",
              "    30% {\n",
              "      border-color: transparent;\n",
              "      border-left-color: var(--fill-color);\n",
              "      border-top-color: var(--fill-color);\n",
              "      border-right-color: var(--fill-color);\n",
              "    }\n",
              "    40% {\n",
              "      border-color: transparent;\n",
              "      border-right-color: var(--fill-color);\n",
              "      border-top-color: var(--fill-color);\n",
              "    }\n",
              "    60% {\n",
              "      border-color: transparent;\n",
              "      border-right-color: var(--fill-color);\n",
              "    }\n",
              "    80% {\n",
              "      border-color: transparent;\n",
              "      border-right-color: var(--fill-color);\n",
              "      border-bottom-color: var(--fill-color);\n",
              "    }\n",
              "    90% {\n",
              "      border-color: transparent;\n",
              "      border-bottom-color: var(--fill-color);\n",
              "    }\n",
              "  }\n",
              "</style>\n",
              "\n",
              "  <script>\n",
              "    async function quickchart(key) {\n",
              "      const quickchartButtonEl =\n",
              "        document.querySelector('#' + key + ' button');\n",
              "      quickchartButtonEl.disabled = true;  // To prevent multiple clicks.\n",
              "      quickchartButtonEl.classList.add('colab-df-spinner');\n",
              "      try {\n",
              "        const charts = await google.colab.kernel.invokeFunction(\n",
              "            'suggestCharts', [key], {});\n",
              "      } catch (error) {\n",
              "        console.error('Error during call to suggestCharts:', error);\n",
              "      }\n",
              "      quickchartButtonEl.classList.remove('colab-df-spinner');\n",
              "      quickchartButtonEl.classList.add('colab-df-quickchart-complete');\n",
              "    }\n",
              "    (() => {\n",
              "      let quickchartButtonEl =\n",
              "        document.querySelector('#df-69e683da-41df-47d1-965e-602ec0b93a79 button');\n",
              "      quickchartButtonEl.style.display =\n",
              "        google.colab.kernel.accessAllowed ? 'block' : 'none';\n",
              "    })();\n",
              "  </script>\n",
              "</div>\n",
              "\n",
              "  <div id=\"id_a6ef7adc-b16e-4294-b9f8-405599e30b5b\">\n",
              "    <style>\n",
              "      .colab-df-generate {\n",
              "        background-color: #E8F0FE;\n",
              "        border: none;\n",
              "        border-radius: 50%;\n",
              "        cursor: pointer;\n",
              "        display: none;\n",
              "        fill: #1967D2;\n",
              "        height: 32px;\n",
              "        padding: 0 0 0 0;\n",
              "        width: 32px;\n",
              "      }\n",
              "\n",
              "      .colab-df-generate:hover {\n",
              "        background-color: #E2EBFA;\n",
              "        box-shadow: 0px 1px 2px rgba(60, 64, 67, 0.3), 0px 1px 3px 1px rgba(60, 64, 67, 0.15);\n",
              "        fill: #174EA6;\n",
              "      }\n",
              "\n",
              "      [theme=dark] .colab-df-generate {\n",
              "        background-color: #3B4455;\n",
              "        fill: #D2E3FC;\n",
              "      }\n",
              "\n",
              "      [theme=dark] .colab-df-generate:hover {\n",
              "        background-color: #434B5C;\n",
              "        box-shadow: 0px 1px 3px 1px rgba(0, 0, 0, 0.15);\n",
              "        filter: drop-shadow(0px 1px 2px rgba(0, 0, 0, 0.3));\n",
              "        fill: #FFFFFF;\n",
              "      }\n",
              "    </style>\n",
              "    <button class=\"colab-df-generate\" onclick=\"generateWithVariable('df')\"\n",
              "            title=\"Generate code using this dataframe.\"\n",
              "            style=\"display:none;\">\n",
              "\n",
              "  <svg xmlns=\"http://www.w3.org/2000/svg\" height=\"24px\"viewBox=\"0 0 24 24\"\n",
              "       width=\"24px\">\n",
              "    <path d=\"M7,19H8.4L18.45,9,17,7.55,7,17.6ZM5,21V16.75L18.45,3.32a2,2,0,0,1,2.83,0l1.4,1.43a1.91,1.91,0,0,1,.58,1.4,1.91,1.91,0,0,1-.58,1.4L9.25,21ZM18.45,9,17,7.55Zm-12,3A5.31,5.31,0,0,0,4.9,8.1,5.31,5.31,0,0,0,1,6.5,5.31,5.31,0,0,0,4.9,4.9,5.31,5.31,0,0,0,6.5,1,5.31,5.31,0,0,0,8.1,4.9,5.31,5.31,0,0,0,12,6.5,5.46,5.46,0,0,0,6.5,12Z\"/>\n",
              "  </svg>\n",
              "    </button>\n",
              "    <script>\n",
              "      (() => {\n",
              "      const buttonEl =\n",
              "        document.querySelector('#id_a6ef7adc-b16e-4294-b9f8-405599e30b5b button.colab-df-generate');\n",
              "      buttonEl.style.display =\n",
              "        google.colab.kernel.accessAllowed ? 'block' : 'none';\n",
              "\n",
              "      buttonEl.onclick = () => {\n",
              "        google.colab.notebook.generateWithVariable('df');\n",
              "      }\n",
              "      })();\n",
              "    </script>\n",
              "  </div>\n",
              "\n",
              "    </div>\n",
              "  </div>\n"
            ],
            "application/vnd.google.colaboratory.intrinsic+json": {
              "type": "dataframe",
              "variable_name": "df",
              "summary": "{\n  \"name\": \"df\",\n  \"rows\": 187,\n  \"fields\": [\n    {\n      \"column\": \"Date\",\n      \"properties\": {\n        \"dtype\": \"object\",\n        \"num_unique_values\": 57,\n        \"samples\": [\n          \"23.02.2017\",\n          \"28.02.2017\",\n          \"07.04.2017\"\n        ],\n        \"semantic_type\": \"\",\n        \"description\": \"\"\n      }\n    },\n    {\n      \"column\": \"Clinic_name\",\n      \"properties\": {\n        \"dtype\": \"category\",\n        \"num_unique_values\": 32,\n        \"samples\": [\n          \"Orange\",\n          \"Maxi\",\n          \"Diomed\"\n        ],\n        \"semantic_type\": \"\",\n        \"description\": \"\"\n      }\n    },\n    {\n      \"column\": \"Doctor_and_Clinic_name\",\n      \"properties\": {\n        \"dtype\": \"category\",\n        \"num_unique_values\": 39,\n        \"samples\": [\n          \"Osipova Larisa Nikolaevna - clinic \\\"Diomed\\\"\",\n          \"Konovalova Natalya Gennadievna\",\n          \"Korovkin Vladimir Vladimirovich - Klinin \\\"Line of Smile\\\"\"\n        ],\n        \"semantic_type\": \"\",\n        \"description\": \"\"\n      }\n    },\n    {\n      \"column\": \"Customer_true_story\",\n      \"properties\": {\n        \"dtype\": \"category\",\n        \"num_unique_values\": 8,\n        \"samples\": [\n          \"I have been treated for more than 10 years in Voetsky Lilia Vladimirovna.They say about such doctors - a doctor from God.Samples and restorations have been worth more than 10 to 9 years already.An attentive and sensitive doctor, a professional in his field.\",\n          \"Orange - good doctor Dubtsova Irina Alekseevna\",\n          \"I was treated and prostheted from him, and sent a bunch of acquaintances.Everyone is happy.Quality and attitude at the level!\"\n        ],\n        \"semantic_type\": \"\",\n        \"description\": \"\"\n      }\n    }\n  ]\n}"
            }
          },
          "metadata": {},
          "execution_count": 41
        }
      ]
    },
    {
      "cell_type": "code",
      "source": [
        "# Save the cleaned dataset\n",
        "df.to_csv('cleaned_translated_dataset.csv', index=False)\n",
        "print(\"Cleaned dataset saved successfully!\")"
      ],
      "metadata": {
        "colab": {
          "base_uri": "https://localhost:8080/"
        },
        "id": "ZYBFTrhpKR3B",
        "outputId": "0496fe36-cbc8-4851-8965-204be770ca38"
      },
      "execution_count": 42,
      "outputs": [
        {
          "output_type": "stream",
          "name": "stdout",
          "text": [
            "Cleaned dataset saved successfully!\n"
          ]
        }
      ]
    },
    {
      "cell_type": "code",
      "source": [
        "# Overview of the dataset\n",
        "print(df.info())\n",
        "\n",
        "# Display first few rows\n",
        "print(df.head())"
      ],
      "metadata": {
        "colab": {
          "base_uri": "https://localhost:8080/"
        },
        "id": "ZhZwEFR4TNnn",
        "outputId": "84e1d177-9ec0-4cc8-b650-291b9aa2d7b9"
      },
      "execution_count": 43,
      "outputs": [
        {
          "output_type": "stream",
          "name": "stdout",
          "text": [
            "<class 'pandas.core.frame.DataFrame'>\n",
            "RangeIndex: 187 entries, 0 to 186\n",
            "Data columns (total 4 columns):\n",
            " #   Column                  Non-Null Count  Dtype \n",
            "---  ------                  --------------  ----- \n",
            " 0   Date                    187 non-null    object\n",
            " 1   Clinic_name             149 non-null    object\n",
            " 2   Doctor_and_Clinic_name  125 non-null    object\n",
            " 3   Customer_true_story     8 non-null      object\n",
            "dtypes: object(4)\n",
            "memory usage: 6.0+ KB\n",
            "None\n",
            "         Date                        Clinic_name Doctor_and_Clinic_name  \\\n",
            "0  23.02.2017  \"Regional dental clinic\" - clinic                    NaN   \n",
            "1  23.02.2017  \"Regional dental clinic\" - clinic                    NaN   \n",
            "2  23.02.2017  \"Regional dental clinic\" - clinic                    NaN   \n",
            "3  23.02.2017  \"Regional dental clinic\" - clinic                    NaN   \n",
            "4  23.02.2017                \"First\" is a clinic                    NaN   \n",
            "\n",
            "  Customer_true_story  \n",
            "0                 NaN  \n",
            "1                 NaN  \n",
            "2                 NaN  \n",
            "3                 NaN  \n",
            "4                 NaN  \n"
          ]
        }
      ]
    },
    {
      "cell_type": "markdown",
      "source": [
        "## Step 5: Data preparation\n",
        "* Check and Handle Missing Values: Are there any empty cells in the dataset? If yes, should we drop or fill them?  \n",
        "\n"
      ],
      "metadata": {
        "id": "H0A12Ol3V4ex"
      }
    },
    {
      "cell_type": "code",
      "source": [],
      "metadata": {
        "id": "cZwvjo37-jpC"
      },
      "execution_count": null,
      "outputs": []
    },
    {
      "cell_type": "code",
      "source": [
        "# Check for missing values\n",
        "print(\"Missing values per column:\")\n",
        "print(df.isnull().sum())\n"
      ],
      "metadata": {
        "colab": {
          "base_uri": "https://localhost:8080/"
        },
        "id": "0_KicRoPTr_4",
        "outputId": "e7dd6bba-780b-44b9-acc8-9c331d82fa5f"
      },
      "execution_count": 7,
      "outputs": [
        {
          "output_type": "stream",
          "name": "stdout",
          "text": [
            "Missing values per column:\n",
            "Date                        0\n",
            "Clinic_name                38\n",
            "Doctor_and_Clinic_name     62\n",
            "Customer_true_story       179\n",
            "dtype: int64\n"
          ]
        }
      ]
    },
    {
      "cell_type": "code",
      "source": [
        "# Fill missing values with 'No data available'\n",
        "df['Clinic_name'].fillna('No data available', inplace=True)\n",
        "df['Doctor_and_Clinic_name'].fillna('No data available', inplace=True)\n",
        "df['Customer_true_story'].fillna('No Data Available', inplace=True)"
      ],
      "metadata": {
        "colab": {
          "base_uri": "https://localhost:8080/"
        },
        "id": "f7fEF5NS-wf2",
        "outputId": "c8536660-8a20-4635-d914-eec859fd7019"
      },
      "execution_count": 10,
      "outputs": [
        {
          "output_type": "stream",
          "name": "stderr",
          "text": [
            "<ipython-input-10-a5ef6348bd96>:2: FutureWarning: A value is trying to be set on a copy of a DataFrame or Series through chained assignment using an inplace method.\n",
            "The behavior will change in pandas 3.0. This inplace method will never work because the intermediate object on which we are setting values always behaves as a copy.\n",
            "\n",
            "For example, when doing 'df[col].method(value, inplace=True)', try using 'df.method({col: value}, inplace=True)' or df[col] = df[col].method(value) instead, to perform the operation inplace on the original object.\n",
            "\n",
            "\n",
            "  df['Clinic_name'].fillna('No data available', inplace=True)\n",
            "<ipython-input-10-a5ef6348bd96>:3: FutureWarning: A value is trying to be set on a copy of a DataFrame or Series through chained assignment using an inplace method.\n",
            "The behavior will change in pandas 3.0. This inplace method will never work because the intermediate object on which we are setting values always behaves as a copy.\n",
            "\n",
            "For example, when doing 'df[col].method(value, inplace=True)', try using 'df.method({col: value}, inplace=True)' or df[col] = df[col].method(value) instead, to perform the operation inplace on the original object.\n",
            "\n",
            "\n",
            "  df['Doctor_and_Clinic_name'].fillna('No data available', inplace=True)\n",
            "<ipython-input-10-a5ef6348bd96>:4: FutureWarning: A value is trying to be set on a copy of a DataFrame or Series through chained assignment using an inplace method.\n",
            "The behavior will change in pandas 3.0. This inplace method will never work because the intermediate object on which we are setting values always behaves as a copy.\n",
            "\n",
            "For example, when doing 'df[col].method(value, inplace=True)', try using 'df.method({col: value}, inplace=True)' or df[col] = df[col].method(value) instead, to perform the operation inplace on the original object.\n",
            "\n",
            "\n",
            "  df['Customer_true_story'].fillna('No Data Available', inplace=True)\n"
          ]
        }
      ]
    },
    {
      "cell_type": "code",
      "source": [
        "print(\"Missing values after handling:\")\n",
        "print(df.isnull().sum())"
      ],
      "metadata": {
        "colab": {
          "base_uri": "https://localhost:8080/"
        },
        "id": "rcbmSiVBAPXj",
        "outputId": "4aa6a3db-6e0c-414f-ef73-7390b8608dc9"
      },
      "execution_count": 12,
      "outputs": [
        {
          "output_type": "stream",
          "name": "stdout",
          "text": [
            "Missing values after handling:\n",
            "Date                      0\n",
            "Clinic_name               0\n",
            "Doctor_and_Clinic_name    0\n",
            "Customer_true_story       0\n",
            "dtype: int64\n"
          ]
        }
      ]
    },
    {
      "cell_type": "code",
      "source": [
        "df.to_csv('cleaned_dataset.csv', index=False)\n",
        "print(\"Cleaned dataset saved successfully!\")"
      ],
      "metadata": {
        "colab": {
          "base_uri": "https://localhost:8080/"
        },
        "id": "5Dp8MVZQA5ir",
        "outputId": "dad9bda3-ec23-4375-dccd-4dcb29d3143a"
      },
      "execution_count": 13,
      "outputs": [
        {
          "output_type": "stream",
          "name": "stdout",
          "text": [
            "Cleaned dataset saved successfully!\n"
          ]
        }
      ]
    },
    {
      "cell_type": "markdown",
      "source": [
        "## Step 6: Ranking Clinics Based on Reviews and Recommendations"
      ],
      "metadata": {
        "id": "TQ-aaHX8Bsxo"
      }
    },
    {
      "cell_type": "code",
      "source": [
        "# Count reviews and calculate average rating per clinic\n",
        "clinic_summary = df.groupby('Clinic_name').agg(\n",
        "    Review_Count=('Customer_true_story', 'count')\n",
        ").reset_index()\n",
        "\n",
        "# Sort clinics by number of reviews\n",
        "clinic_summary = clinic_summary.sort_values(by='Review_Count', ascending=False)\n",
        "\n",
        "# Display top clinics\n",
        "print(clinic_summary.head(10))"
      ],
      "metadata": {
        "colab": {
          "base_uri": "https://localhost:8080/"
        },
        "id": "-Os54oilBw0w",
        "outputId": "8c6179f9-31dd-4c70-cf76-e4c7459d4e51"
      },
      "execution_count": 60,
      "outputs": [
        {
          "output_type": "stream",
          "name": "stdout",
          "text": [
            "                          Clinic_name  Review_Count\n",
            "27                  No data available            38\n",
            "6                 \"Eddar\" is a clinic            23\n",
            "16              \"Smile Line\" - Clinic            20\n",
            "9                \"L -clinic\" - clinic            19\n",
            "5              \"Doctor Dent\" - clinic            17\n",
            "2      \"Central District\" is a clinic            11\n",
            "3                \"Dentor\" is a clinic             7\n",
            "14  \"Regional dental clinic\" - clinic             7\n",
            "7                 \"First\" is a clinic             6\n",
            "19                Alfa Smile - Clinic             6\n"
          ]
        }
      ]
    },
    {
      "cell_type": "markdown",
      "source": [
        "## Step 7: Ranking doctor Based on revies and Recommendations"
      ],
      "metadata": {
        "id": "GiRsWw5sCCNH"
      }
    },
    {
      "cell_type": "code",
      "source": [
        "# Count reviews for each doctor and clinic name\n",
        "doctor_clinic_ranking = df.groupby('Doctor_and_Clinic_name').agg(\n",
        "    Review_Count=('Customer_true_story', 'count')\n",
        ").reset_index()\n",
        "\n",
        "# Sort by review count in descending order\n",
        "doctor_clinic_ranking = doctor_clinic_ranking.sort_values(by='Review_Count', ascending=False)\n",
        "\n",
        "# Display the top 10\n",
        "print(doctor_clinic_ranking.head(10))"
      ],
      "metadata": {
        "colab": {
          "base_uri": "https://localhost:8080/"
        },
        "id": "E1j-OwPMDjtC",
        "outputId": "3db5df2a-7069-4df9-9464-1eb8acfd4371"
      },
      "execution_count": 61,
      "outputs": [
        {
          "output_type": "stream",
          "name": "stdout",
          "text": [
            "                               Doctor_and_Clinic_name  Review_Count\n",
            "27                                  No data available            62\n",
            "39  Voetskaya Lilia Vladimirovna - Clinic \"Smile L...            14\n",
            "29       Novoselova Galina Nikolaevna - clinic \"Ekar\"            11\n",
            "13       Karasev Roman Borisovich - clinic \"Dr. Dent\"            10\n",
            "19     Lebedev Timofey Petrovich - Clinic \"L -clinic\"            10\n",
            "28                    Novikov Andrey - clinic \"First\"             8\n",
            "1        Andreev Nikolay Mikhailovich - clinic \"Ekar\"             6\n",
            "20            Logvin Dmitry Ivanovich - clinic \"Ekar\"             6\n",
            "18  Korovkin Vladimir Vladimirovich - Clinic \"Smil...             5\n",
            "22   Miheda Alina Olegovna - \"Regional Dental Clinic\"             5\n"
          ]
        }
      ]
    },
    {
      "cell_type": "markdown",
      "source": [
        "## Step 8: Export the Rankings"
      ],
      "metadata": {
        "id": "dXeJswKwFePo"
      }
    },
    {
      "cell_type": "code",
      "source": [
        "# Group by Doctor_and_Clinic_name and aggregate review count\n",
        "doctor_clinic_rank = df.groupby('Doctor_and_Clinic_name').agg(\n",
        "    Review_Count=('Customer_true_story', 'count'),\n",
        ").reset_index()\n",
        "\n",
        "# Sort by review count\n",
        "doctor_clinic_rank = doctor_clinic_rank.sort_values(by='Review_Count', ascending=False)\n",
        "\n",
        "# Save to a CSV\n",
        "doctor_clinic_rank.to_csv('doctor_clinic_rank.csv', index=False)\n",
        "print(\"Doctor and Clinic ranking with reviews saved as 'doctor_clinic_rank.csv'.\")\n"
      ],
      "metadata": {
        "colab": {
          "base_uri": "https://localhost:8080/"
        },
        "id": "s4wIVo1ZFeAJ",
        "outputId": "4ad8e8df-ea2f-4b6a-ab5f-89150e4a442b"
      },
      "execution_count": 62,
      "outputs": [
        {
          "output_type": "stream",
          "name": "stdout",
          "text": [
            "Doctor and Clinic ranking with reviews saved as 'doctor_clinic_rank.csv'.\n"
          ]
        }
      ]
    },
    {
      "cell_type": "code",
      "source": [
        "# Group by Clinic_name and aggregate review count\n",
        "clinic_rank = df.groupby('Clinic_name').agg(\n",
        "    Review_Count=('Customer_true_story', 'count'),\n",
        ").reset_index()\n",
        "\n",
        "# Sort by review count\n",
        "clinic_rank = clinic_rank.sort_values(by='Review_Count', ascending=False)\n",
        "\n",
        "# Save to a CSV\n",
        "clinic_rank.to_csv('clinic_rank.csv', index=False)\n",
        "print(\"Clinic ranking with reviews saved as 'clinic_rank.csv'.\")\n"
      ],
      "metadata": {
        "colab": {
          "base_uri": "https://localhost:8080/"
        },
        "id": "AM8ChMO1GEL4",
        "outputId": "2056b21e-8a7e-4c9f-ded9-628daa1f18a9"
      },
      "execution_count": 63,
      "outputs": [
        {
          "output_type": "stream",
          "name": "stdout",
          "text": [
            "Clinic ranking with reviews saved as 'clinic_rank.csv'.\n"
          ]
        }
      ]
    },
    {
      "cell_type": "markdown",
      "source": [
        "## Step 11: Basic vizualization"
      ],
      "metadata": {
        "id": "EPkngzVJHDQK"
      }
    },
    {
      "cell_type": "code",
      "source": [
        "import matplotlib.pyplot as plt\n",
        "import seaborn as sns\n"
      ],
      "metadata": {
        "id": "hSQpr0IGGHYF"
      },
      "execution_count": 64,
      "outputs": []
    },
    {
      "cell_type": "code",
      "source": [
        "# Filter top 10 Doctor_and_Clinic_name\n",
        "top_doctor_clinic = doctor_clinic_rank.head(10)\n",
        "\n",
        "# Create a bar plot\n",
        "plt.figure(figsize=(10, 6))\n",
        "sns.barplot(data=top_doctor_clinic, x='Review_Count', y='Doctor_and_Clinic_name', palette='viridis')\n",
        "plt.title('Top 10 Doctors and Clinics by Number of Reviews', fontsize=16)\n",
        "plt.ylabel('Doctor and Clinic Name', fontsize=12)\n",
        "plt.tight_layout()\n",
        "plt.show()\n"
      ],
      "metadata": {
        "colab": {
          "base_uri": "https://localhost:8080/",
          "height": 696
        },
        "id": "clSuwxpsHJEz",
        "outputId": "ab33dd71-43aa-447e-fe7a-28ea33bed7d3"
      },
      "execution_count": 65,
      "outputs": [
        {
          "output_type": "stream",
          "name": "stderr",
          "text": [
            "<ipython-input-65-e6ff96b0cbe0>:6: FutureWarning: \n",
            "\n",
            "Passing `palette` without assigning `hue` is deprecated and will be removed in v0.14.0. Assign the `y` variable to `hue` and set `legend=False` for the same effect.\n",
            "\n",
            "  sns.barplot(data=top_doctor_clinic, x='Review_Count', y='Doctor_and_Clinic_name', palette='viridis')\n"
          ]
        },
        {
          "output_type": "display_data",
          "data": {
            "text/plain": [
              "<Figure size 1000x600 with 1 Axes>"
            ],
            "image/png": "[encoded data removed]"
          },
          "metadata": {}
        }
      ]
    },
    {
      "cell_type": "code",
      "source": [
        "# Filter top 10 Clinic_name\n",
        "top_clinics = clinic_rank.head(10)\n",
        "\n",
        "# Create a bar plot\n",
        "plt.figure(figsize=(10, 6))\n",
        "sns.barplot(data=top_clinics, x='Review_Count', y='Clinic_name', palette='viridis')\n",
        "plt.title('Top 10 Clinics by Number of Reviews', fontsize=16)\n",
        "plt.xlabel('Number of Reviews', fontsize=12)\n",
        "plt.ylabel('Clinic Name', fontsize=12)\n",
        "plt.tight_layout()\n",
        "plt.show()\n"
      ],
      "metadata": {
        "colab": {
          "base_uri": "https://localhost:8080/",
          "height": 696
        },
        "id": "TvBJtaujHOTm",
        "outputId": "1536dfad-2147-442a-eede-0cf20bd991f3"
      },
      "execution_count": 80,
      "outputs": [
        {
          "output_type": "stream",
          "name": "stderr",
          "text": [
            "<ipython-input-80-9492abb39c7a>:6: FutureWarning: \n",
            "\n",
            "Passing `palette` without assigning `hue` is deprecated and will be removed in v0.14.0. Assign the `y` variable to `hue` and set `legend=False` for the same effect.\n",
            "\n",
            "  sns.barplot(data=top_clinics, x='Review_Count', y='Clinic_name', palette='viridis')\n"
          ]
        },
        {
          "output_type": "display_data",
          "data": {
            "text/plain": [
              "<Figure size 1000x600 with 1 Axes>"
            ],
            "image/png": "[encoded data removed]"
          },
          "metadata": {}
        }
      ]
    },
    {
      "cell_type": "markdown",
      "source": [
        "## Step 12: Cleaning from \"No data available\""
      ],
      "metadata": {
        "id": "peyEjf6zM-48"
      }
    },
    {
      "cell_type": "code",
      "source": [
        "import pandas as pd\n",
        "\n",
        "import pandas as pd\n",
        "\n",
        "# Load the files\n",
        "clinic_rank = pd.read_csv('/content/clinic_rank.csv')\n",
        "doctor_clinic_rank = pd.read_csv('/content/doctor_clinic_rank.csv')"
      ],
      "metadata": {
        "id": "PAtH6EnuNGm-"
      },
      "execution_count": 69,
      "outputs": []
    },
    {
      "cell_type": "code",
      "source": [
        "# Remove rows with \"No data dvailable\" in clinic_rank\n",
        "clinic_rank = clinic_rank[~clinic_rank.apply(lambda row: row.astype(str).str.contains(\"No data available\").any(), axis=1)]\n",
        "\n",
        "# Remove rows with \"No data dvailable\" in doctor_clinic_rank\n",
        "doctor_clinic_rank = doctor_clinic_rank[~doctor_clinic_rank.apply(lambda row: row.astype(str).str.contains(\"No data available\").any(), axis=1)]\n"
      ],
      "metadata": {
        "id": "2mEJJi63NKbe"
      },
      "execution_count": 76,
      "outputs": []
    },
    {
      "cell_type": "code",
      "source": [
        "# Save the cleaned files\n",
        "clinic_rank.to_csv('cleaned_clinic_rank.csv', index=False)\n",
        "doctor_clinic_rank.to_csv('cleaned_doctor_clinic_rank.csv', index=False)\n",
        "\n",
        "print(\"Cleaned files saved as 'cleaned_clinic_rank.csv' and 'cleaned_doctor_clinic_rank.csv'.\")\n"
      ],
      "metadata": {
        "colab": {
          "base_uri": "https://localhost:8080/"
        },
        "id": "BFZm2LcCNkxh",
        "outputId": "9abf98b9-5414-4a1e-93e7-522e8f99cec8"
      },
      "execution_count": 78,
      "outputs": [
        {
          "output_type": "stream",
          "name": "stdout",
          "text": [
            "Cleaned files saved as 'cleaned_clinic_rank.csv' and 'cleaned_doctor_clinic_rank.csv'.\n"
          ]
        }
      ]
    },
    {
      "cell_type": "code",
      "source": [
        "# Filter top 10 Doctor_and_Clinic_name\n",
        "top_doctor_clinic = doctor_clinic_rank.head(10)\n",
        "\n",
        "# Create a bar plot\n",
        "plt.figure(figsize=(10, 6))\n",
        "sns.barplot(data=top_doctor_clinic, x='Review_Count', y='Doctor_and_Clinic_name', palette='viridis')\n",
        "plt.title('Top 10 Doctors and Clinics by Number of Reviews', fontsize=16)\n",
        "plt.ylabel('Doctor and Clinic Name', fontsize=12)\n",
        "plt.tight_layout()\n",
        "plt.show()\n"
      ],
      "metadata": {
        "colab": {
          "base_uri": "https://localhost:8080/",
          "height": 696
        },
        "id": "Zvtg7TeXO1py",
        "outputId": "cdf79fbd-cdf5-4eb9-e1aa-4b7f4d0487aa"
      },
      "execution_count": 81,
      "outputs": [
        {
          "output_type": "stream",
          "name": "stderr",
          "text": [
            "<ipython-input-81-e6ff96b0cbe0>:6: FutureWarning: \n",
            "\n",
            "Passing `palette` without assigning `hue` is deprecated and will be removed in v0.14.0. Assign the `y` variable to `hue` and set `legend=False` for the same effect.\n",
            "\n",
            "  sns.barplot(data=top_doctor_clinic, x='Review_Count', y='Doctor_and_Clinic_name', palette='viridis')\n"
          ]
        },
        {
          "output_type": "display_data",
          "data": {
            "text/plain": [
              "<Figure size 1000x600 with 1 Axes>"
            ],
            "image/png": "[encoded data removed]"
          },
          "metadata": {}
        }
      ]
    },
    {
      "cell_type": "code",
      "source": [],
      "metadata": {
        "id": "M40DDdpYO2C7"
      },
      "execution_count": null,
      "outputs": []
    },
    {
      "cell_type": "markdown",
      "source": [
        "## Step 13: Preparing the Cleaned Data for Tableau Visualization\n"
      ],
      "metadata": {
        "id": "8GidjjooPQ7v"
      }
    },
    {
      "cell_type": "code",
      "source": [
        "# Check the structure of clinic rankings\n",
        "print(clinic_rank.head())\n",
        "\n",
        "# Check the structure of doctor-clinic rankings\n",
        "print(doctor_clinic_rank.head())\n"
      ],
      "metadata": {
        "colab": {
          "base_uri": "https://localhost:8080/"
        },
        "id": "MWq6qxoJQA6j",
        "outputId": "9976be54-f1ba-4599-9523-42f72ee42c73"
      },
      "execution_count": 87,
      "outputs": [
        {
          "output_type": "stream",
          "name": "stdout",
          "text": [
            "                      Clinic_name  Review_Count\n",
            "0             \"Eddar\" is a clinic            23\n",
            "1           \"Smile Line\" - Clinic            20\n",
            "2            \"L -clinic\" - clinic            19\n",
            "3          \"Doctor Dent\" - clinic            17\n",
            "4  \"Central District\" is a clinic            11\n",
            "                              Doctor_and_Clinic_name  Review_Count  \\\n",
            "0  Voetskaya Lilia Vladimirovna - Clinic \"Smile L...            14   \n",
            "1       Novoselova Galina Nikolaevna - clinic \"Ekar\"            11   \n",
            "2       Karasev Roman Borisovich - clinic \"Dr. Dent\"            10   \n",
            "3     Lebedev Timofey Petrovich - Clinic \"L -clinic\"            10   \n",
            "4                    Novikov Andrey - clinic \"First\"             8   \n",
            "\n",
            "           Clinic_name  \n",
            "0  Clinic \"Smile Line\"  \n",
            "1        clinic \"Ekar\"  \n",
            "2    clinic \"Dr. Dent\"  \n",
            "3   Clinic \"L -clinic\"  \n",
            "4       clinic \"First\"  \n"
          ]
        }
      ]
    },
    {
      "cell_type": "code",
      "source": [
        "# Add a ranking column based on Review_Count\n",
        "clinic_rank['Rank'] = clinic_rank['Review_Count'].rank(method='dense', ascending=False).astype(int)\n",
        "doctor_clinic_rank['Rank'] = doctor_clinic_rank['Review_Count'].rank(method='dense', ascending=False).astype(int)\n"
      ],
      "metadata": {
        "id": "wIgf3bhJQFvD"
      },
      "execution_count": 88,
      "outputs": []
    },
    {
      "cell_type": "code",
      "source": [
        "clinic_rank.rename(columns={'Clinic_name': 'Clinic Name', 'Review_Count': 'Review Count'}, inplace=True)\n",
        "doctor_clinic_rank.rename(columns={'Doctor_and_Clinic_name': 'Doctor and Clinic Name', 'Review_Count': 'Review Count'}, inplace=True)\n"
      ],
      "metadata": {
        "id": "eCfgzqtfQWiV"
      },
      "execution_count": 89,
      "outputs": []
    },
    {
      "cell_type": "code",
      "source": [
        "# Export clinic rankings\n",
        "clinic_rank.to_csv('final_clinic_rank.csv', index=False)\n",
        "\n",
        "# Export doctor-clinic rankings\n",
        "doctor_clinic_rank.to_csv('final_doctor_clinic_rank.csv', index=False)\n",
        "\n",
        "print(\"Final datasets saved as 'final_clinic_rank.csv' and 'final_doctor_clinic_rank.csv'.\")\n"
      ],
      "metadata": {
        "colab": {
          "base_uri": "https://localhost:8080/"
        },
        "id": "TyqTXV2XQbCR",
        "outputId": "c500eba2-654b-461b-847c-67d2be236462"
      },
      "execution_count": 90,
      "outputs": [
        {
          "output_type": "stream",
          "name": "stdout",
          "text": [
            "Final datasets saved as 'final_clinic_rank.csv' and 'final_doctor_clinic_rank.csv'.\n"
          ]
        }
      ]
    },
    {
      "cell_type": "markdown",
      "source": [
        "Step 14: Visualizations in Tableau\n",
        "\n",
        "1. Top 10 Clinics by Review Count:\n",
        "      * Use a Bar Chart to show the most-reviewed clinics.\n",
        "      * Include the Rank column for labeling.\n",
        "\n",
        "2. Top 10 Doctors and Clinics by Review Count:\n",
        "      * Another Bar Chart to show the most popular combinations of doctors and clinics.\n",
        "\n",
        "3. Proportional Analysis:\n",
        "      * A Pie Chart to display the share of total reviews for top clinics or doctors."
      ],
      "metadata": {
        "id": "ijtTJavTQyC3"
      }
    }
  ]
}
