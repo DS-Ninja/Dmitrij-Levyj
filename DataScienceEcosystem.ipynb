{
  "nbformat": 4,
  "nbformat_minor": 0,
  "metadata": {
    "colab": {
      "provenance": [],
      "authorship_tag": "ABX9TyNmw3ne1LgABOM/6zvl8uVD",
      "include_colab_link": true
    },
    "kernelspec": {
      "name": "python3",
      "display_name": "Python 3"
    },
    "language_info": {
      "name": "python"
    }
  },
  "cells": [
    {
      "cell_type": "markdown",
      "metadata": {
        "id": "view-in-github",
        "colab_type": "text"
      },
      "source": [
        "<a href=\"https://colab.research.google.com/github/DS-Ninja/Dmitrij-Levyj/blob/Main/DataScienceEcosystem.ipynb\" target=\"_parent\"><img src=\"https://colab.research.google.com/assets/colab-badge.svg\" alt=\"Open In Colab\"/></a>"
      ]
    },
    {
      "cell_type": "markdown",
      "source": [
        "# Data Science Tools and Ecosystem"
      ],
      "metadata": {
        "id": "1sRU-t0tkjr3"
      }
    },
    {
      "cell_type": "markdown",
      "source": [
        "# In this notebook, Data Science Tools and Ecosystem are summarized"
      ],
      "metadata": {
        "id": "cwaOrzG1mCkv"
      }
    },
    {
      "cell_type": "markdown",
      "source": [
        "# Some of the popular languages that Data Scientists use are:\n",
        "\n",
        "\n",
        "1. Python\n",
        "2. R\n",
        "3. SQL\n",
        "4. Java\n",
        "5. Julia\n",
        "6. Scala\n",
        "7. C/C++\n",
        "8. JavaScript\n",
        "9. MATLAB\n",
        "10. SAS"
      ],
      "metadata": {
        "id": "rpY2F-PgmSnf"
      }
    },
    {
      "cell_type": "markdown",
      "source": [
        "# Some of the commonly used libraries used by Data Scientists include\n",
        "\n",
        "1. Pandas\n",
        "2. NumPy\n",
        "3. Matplotlib\n",
        "4. scikit-learn\n",
        "5. TensorFlow\n"
      ],
      "metadata": {
        "id": "PPFrW6s0yOVP"
      }
    },
    {
      "cell_type": "markdown",
      "source": [
        "# Data Science Tools\n",
        "\n",
        "| Data Science Tools |\n",
        "|--------------------|\n",
        "| Jupyter Notebook   |\n",
        "| RStudio            |\n",
        "| Google Colab       |"
      ],
      "metadata": {
        "id": "EkczRqD0niPJ"
      }
    },
    {
      "cell_type": "markdown",
      "source": [
        "### Below are a few examples of evaluating arithmetic expressions in Python."
      ],
      "metadata": {
        "id": "OBo_uLPEoX8K"
      }
    },
    {
      "cell_type": "code",
      "source": [
        "# This a simple arithmetic expression to mutiply then add integers\n",
        "a = 3\n",
        "b = 4\n",
        "c = 5\n",
        "result = (a * b) + c\n",
        "print(result)"
      ],
      "metadata": {
        "colab": {
          "base_uri": "https://localhost:8080/"
        },
        "id": "ElF2w8EiodeT",
        "outputId": "d1ccb6b5-75aa-47a2-f591-276a87d73c85"
      },
      "execution_count": 9,
      "outputs": [
        {
          "output_type": "stream",
          "name": "stdout",
          "text": [
            "17\n"
          ]
        }
      ]
    },
    {
      "cell_type": "code",
      "source": [
        "a = 200\n",
        "b = 60\n",
        "result = a / b\n",
        "print(result)"
      ],
      "metadata": {
        "colab": {
          "base_uri": "https://localhost:8080/"
        },
        "id": "YdmGOa36otpT",
        "outputId": "c9b455e2-ed3d-4e06-fc56-5ed1530fdfb3"
      },
      "execution_count": 10,
      "outputs": [
        {
          "output_type": "stream",
          "name": "stdout",
          "text": [
            "3.3333333333333335\n"
          ]
        }
      ]
    },
    {
      "cell_type": "markdown",
      "source": [
        "**Objectives**\n",
        "\n",
        "* Python\n",
        "* R\n",
        "* SQL\n",
        "* Java\n",
        "* Julia"
      ],
      "metadata": {
        "id": "Nnz3QbCNpr8j"
      }
    },
    {
      "cell_type": "markdown",
      "source": [
        "## Authhor\n",
        "Dmitrij Levyj"
      ],
      "metadata": {
        "id": "kjLWgMJSqpcZ"
      }
    },
    {
      "cell_type": "code",
      "source": [],
      "metadata": {
        "id": "VZglB_Vzq0qT"
      },
      "execution_count": null,
      "outputs": []
    }
  ]
}